{
 "cells": [
  {
   "cell_type": "code",
   "execution_count": 29,
   "id": "457e8c5f",
   "metadata": {},
   "outputs": [
    {
     "name": "stderr",
     "output_type": "stream",
     "text": [
      "c:\\Users\\Esther\\miniconda3\\envs\\tf_env\\lib\\site-packages\\tqdm\\auto.py:21: TqdmWarning: IProgress not found. Please update jupyter and ipywidgets. See https://ipywidgets.readthedocs.io/en/stable/user_install.html\n",
      "  from .autonotebook import tqdm as notebook_tqdm\n"
     ]
    },
    {
     "name": "stdout",
     "output_type": "stream",
     "text": [
      "WARNING:tensorflow:From c:\\Users\\Esther\\miniconda3\\envs\\tf_env\\lib\\site-packages\\tf_keras\\src\\losses.py:2976: The name tf.losses.sparse_softmax_cross_entropy is deprecated. Please use tf.compat.v1.losses.sparse_softmax_cross_entropy instead.\n",
      "\n"
     ]
    }
   ],
   "source": [
    "# Import libraries\n",
    "import numpy as np\n",
    "import pandas as pd\n",
    "import seaborn as sns\n",
    "import matplotlib.pyplot as plt\n",
    "\n",
    "import spacy\n",
    "import re\n",
    "import nltk\n",
    "\n",
    "# Build and train models\n",
    "import keras_tuner as kt\n",
    "from transformers import BertTokenizer, TFBertForSequenceClassification\n",
    "import faiss\n",
    "from sentence_transformers import SentenceTransformer"
   ]
  },
  {
   "cell_type": "code",
   "execution_count": 12,
   "id": "7dfaf3a2",
   "metadata": {},
   "outputs": [
    {
     "data": {
      "application/vnd.microsoft.datawrangler.viewer.v0+json": {
       "columns": [
        {
         "name": "index",
         "rawType": "int64",
         "type": "integer"
        },
        {
         "name": "ID",
         "rawType": "int64",
         "type": "integer"
        },
        {
         "name": "Resume_str",
         "rawType": "object",
         "type": "string"
        },
        {
         "name": "Resume_html",
         "rawType": "object",
         "type": "string"
        },
        {
         "name": "Category",
         "rawType": "object",
         "type": "string"
        }
       ],
       "conversionMethod": "pd.DataFrame",
       "ref": "265ca96c-bb26-4084-9882-dd9dfe263bad",
       "rows": [
        [
         "0",
         "16852973",
         "         HR ADMINISTRATOR/MARKETING ASSOCIATE\n\nHR ADMINISTRATOR       Summary     Dedicated Customer Service Manager with 15+ years of experience in Hospitality and Customer Service Management.   Respected builder and leader of customer-focused teams; strives to instill a shared, enthusiastic commitment to customer service.         Highlights         Focused on customer satisfaction  Team management  Marketing savvy  Conflict resolution techniques     Training and development  Skilled multi-tasker  Client relations specialist           Accomplishments      Missouri DOT Supervisor Training Certification  Certified by IHG in Customer Loyalty and Marketing by Segment   Hilton Worldwide General Manager Training Certification  Accomplished Trainer for cross server hospitality systems such as    Hilton OnQ  ,   Micros    Opera PMS   , Fidelio    OPERA    Reservation System (ORS) ,   Holidex    Completed courses and seminars in customer service, sales strategies, inventory control, loss prevention, safety, time management, leadership and performance assessment.        Experience      HR Administrator/Marketing Associate\n\nHR Administrator     Dec 2013   to   Current      Company Name   －   City  ,   State     Helps to develop policies, directs and coordinates activities such as employment, compensation, labor relations, benefits, training, and employee services.  Prepares employee separation notices and related documentation  Keeps records of benefits plans participation such as insurance and pension plan, personnel transactions such as hires, promotions, transfers, performance reviews, and terminations, and employee statistics for government reporting.  Advises management in appropriate resolution of employee relations issues.  Administers benefits programs such as life, health, dental, insurance, pension plans, vacation, sick leave, leave of absence, and employee assistance.     Marketing Associate     Designed and created marketing collateral for sales meetings, trade shows and company executives.  Managed the in-house advertising program consisting of print and media collateral pieces.  Assisted in the complete design and launch of the company's website in 2 months.  Created an official company page on Facebook to facilitate interaction with customers.  Analyzed ratings and programming features of competitors to evaluate the effectiveness of marketing strategies.         Advanced Medical Claims Analyst     Mar 2012   to   Dec 2013      Company Name   －   City  ,   State     Reviewed medical bills for the accuracy of the treatments, tests, and hospital stays prior to sanctioning the claims.  Trained to interpret the codes (ICD-9, CPT) and terminology commonly used in medical billing to fully understand the paperwork that is submitted by healthcare providers.  Required to have organizational and analytical skills as well as computer skills, knowledge of medical terminology and procedures, statistics, billing standards, data analysis and laws regarding medical billing.         Assistant General Manager     Jun 2010   to   Dec 2010      Company Name   －   City  ,   State     Performed duties including but not limited to, budgeting and financial management, accounting, human resources, payroll and purchasing.  Established and maintained close working relationships with all departments of the hotel to ensure maximum operation, productivity, morale and guest service.  Handled daily operations and reported directly to the corporate office.  Hired and trained staff on overall objectives and goals with an emphasis on high customer service.  Marketing and Advertising, working on public relations with the media, government and local businesses and Chamber of Commerce.         Executive Support / Marketing Assistant     Jul 2007   to   Jun 2010      Company Name   －   City  ,   State     Provided assistance to various department heads - Executive, Marketing, Customer Service, Human Resources.  Managed front-end operations to ensure friendly and efficient transactions.  Ensured the swift resolution of customer issues to preserve customer loyalty while complying with company policies.  Exemplified the second-to-none customer service delivery in all interactions with customers and potential clients.         Reservation & Front Office Manager     Jun 2004   to   Jul 2007      Company Name   －   City  ,   State          Owner/ Partner     Dec 2001   to   May 2004      Company Name   －   City  ,   State          Price Integrity Coordinator     Aug 1999   to   Dec 2001      Company Name   －   City  ,   State          Education      N/A  ,   Business Administration   1999     Jefferson College   －   City  ,   State       Business Administration  Marketing / Advertising         High School Diploma  ,   College Prep. studies   1998     Sainte Genevieve Senior High   －   City  ,   State       Awarded American Shrubel Leadership Scholarship to Jefferson College         Skills     Accounting, ads, advertising, analytical skills, benefits, billing, budgeting, clients, Customer Service, data analysis, delivery, documentation, employee relations, financial management, government relations, Human Resources, insurance, labor relations, layout, Marketing, marketing collateral, medical billing, medical terminology, office, organizational, payroll, performance reviews, personnel, policies, posters, presentations, public relations, purchasing, reporting, statistics, website.    ",
         "<div class=\"fontsize fontface vmargins hmargins linespacing pagesize\" id=\"document\"> <div class=\"section firstsection\" id=\"SECTION_NAME500375979\" style=\"\n      padding-top:0px;\n    \"> <div class=\"paragraph PARAGRAPH_NAME firstparagraph\" id=\"PARAGRAPH_500375979_1_326506904\" style=\"\n      padding-top:0px;\n    \"> <div class=\"name\" itemprop=\"name\"> <span class=\"field fName\" id=\"500375979FNAM1\"> </span> <span> </span> <span class=\"field\" id=\"500375979LNAM1\"> HR ADMINISTRATOR/MARKETING ASSOCIATE\n\nHR ADMINISTRATOR</span> </div> </div> </div> <div class=\"section\" id=\"SECTION_SUMM500375981\" style=\"\n      padding-top:0px;\n    \"> <div class=\"heading bottomborder\"> <div class=\"sectiontitle\" id=\"SECTNAME_SUMM500375981\"> Summary</div> </div> <div class=\"paragraph firstparagraph\" id=\"PARAGRAPH_500375981_1_326506917\" style=\"\n      padding-top:0px;\n    \"> <div class=\"field singlecolumn\" id=\"500375981FRFM1\"> <p align=\"LEFT\"> Dedicated Customer Service Manager with 15+ years of experience in Hospitality and Customer Service Management. </p> <p align=\"LEFT\"> Respected builder and leader of customer-focused teams; strives to instill a shared, enthusiastic commitment to customer service.  </p> </div> </div> </div> <div class=\"section\" id=\"SECTION_HILT500375982\" style=\"\n      padding-top:0px;\n    \"> <div class=\"heading bottomborder\"> <div class=\"sectiontitle\" id=\"SECTNAME_HILT500375982\"> Highlights</div> </div> <div class=\"paragraph firstparagraph\" id=\"PARAGRAPH_500375982_1_326509244\" style=\"\n      padding-top:0px;\n    \"> <div class=\"singlecolumn maincolumn\"> <table class=\"twocol\"> <tbody> <tr> <td class=\"field twocol_1\" id=\"500375982SKC11\"> <p align=\"CENTER\"> Focused on customer satisfaction</p> <p align=\"CENTER\"> Team management</p> <p align=\"CENTER\"> Marketing savvy</p> <p align=\"CENTER\"> Conflict resolution techniques</p> <br/> </td> <td class=\"field twocol_2\" id=\"500375982SKC21\"> <p align=\"CENTER\"> Training and development</p> <p align=\"CENTER\"> Skilled multi-tasker</p> <p align=\"CENTER\"> Client relations specialist</p> </td> </tr> </tbody> </table> </div> </div> </div> <div class=\"section\" id=\"SECTION_ACCM500375993\" style=\"\n      padding-top:0px;\n    \"> <div class=\"heading bottomborder\"> <div class=\"sectiontitle\" id=\"SECTNAME_ACCM500375993\"> Accomplishments</div> </div> <div class=\"paragraph firstparagraph\" id=\"PARAGRAPH_500375993_1_326506914\" style=\"\n      padding-top:0px;\n    \"> <div class=\"field singlecolumn\" id=\"500375993FRFM1\"> <ul> <li> Missouri DOT Supervisor Training Certification</li> <li> Certified by IHG in Customer Loyalty and Marketing by Segment </li> <li> Hilton Worldwide General Manager Training Certification</li> <li> Accomplished Trainer for cross server hospitality systems such as  <b> <u> Hilton OnQ</u> </b> ,  <u> Micros </u> <b> <u> Opera PMS</u> </b> <u> , Fidelio </u> <b> <u> OPERA</u> </b> <u>  Reservation System (ORS)</u> , <b> <u> Holidex</u> </b> </li> <li> Completed courses and seminars in customer service, sales strategies, inventory control, loss prevention, safety, time management, leadership and performance assessment.</li> </ul> </div> </div> </div> <div class=\"section\" id=\"SECTION_EXPR500375983\" style=\"\n      padding-top:0px;\n    \"> <div class=\"heading bottomborder\"> <div class=\"sectiontitle\" id=\"SECTNAME_EXPR500375983\"> Experience</div> </div> <div class=\"paragraph firstparagraph\" id=\"PARAGRAPH_500375983_1_326506906\" itemscope=\"\" itemtype=\"https://schema.org/Organization\" style=\"\n      padding-top:0px;\n    \"> <div class=\"singlecolumn\"> <span class=\"paddedline\"> <span class=\"jobtitle\" id=\"500375983JTIT1\"> HR Administrator/Marketing Associate\n\nHR Administrator</span> <span> </span> <span class=\"datesWrapper\"> <span class=\"jobdates\" format=\"%b %Y\" id=\"500375983JSTD1\"> Dec 2013</span> <span>  to </span> <span class=\"jobdates\" format=\"%b %Y\" id=\"500375983EDDT1\"> Current</span> <br/> </span> </span> <span class=\"paddedline\" itemscope=\"\" itemtype=\"https://schema.org/postalAddress\"> <span class=\"companyname\" id=\"500375983COMP1\" itemprop=\"name\"> Company Name</span> <span>  － </span> <span class=\"joblocation jobcity\" id=\"500375983JCIT1\" itemprop=\"addressLocality\"> City</span> <span> , </span> <span class=\"joblocation jobstate\" id=\"500375983JSTA1\" itemprop=\"addressRegion\"> State</span> </span> <span class=\"jobline\" id=\"500375983JDES1\" itemprop=\"description\"> <ul> <li> Helps to develop policies, directs and coordinates activities such as employment, compensation, labor relations, benefits, training, and employee services.</li> <li> Prepares employee separation notices and related documentation</li> <li> Keeps records of benefits plans participation such as insurance and pension plan, personnel transactions such as hires, promotions, transfers, performance reviews, and terminations, and employee statistics for government reporting.</li> <li> Advises management in appropriate resolution of employee relations issues.</li> <li> Administers benefits programs such as life, health, dental, insurance, pension plans, vacation, sick leave, leave of absence, and employee assistance.</li> </ul> <br/> <p align=\"LEFT\"> <b> Marketing Associate</b>  </p> <ul> <li> Designed and created marketing collateral for sales meetings, trade shows and company executives.</li> <li> Managed the in-house advertising program consisting of print and media collateral pieces.</li> <li> Assisted in the complete design and launch of the company's website in 2 months.</li> <li> Created an official company page on Facebook to facilitate interaction with customers.</li> <li> Analyzed ratings and programming features of competitors to evaluate the effectiveness of marketing strategies.</li> </ul> </span> </div> </div> <div class=\"paragraph\" id=\"PARAGRAPH_500375983_2_326506907\" itemscope=\"\" itemtype=\"https://schema.org/Organization\" style=\"\n      padding-top:10px;\n    \"> <div class=\"singlecolumn\"> <span class=\"paddedline\"> <span class=\"jobtitle\" id=\"500375983JTIT2\"> Advanced Medical Claims Analyst</span> <span> </span> <span class=\"datesWrapper\"> <span class=\"jobdates\" format=\"%b %Y\" id=\"500375983JSTD2\"> Mar 2012</span> <span>  to </span> <span class=\"jobdates\" format=\"%b %Y\" id=\"500375983EDDT2\"> Dec 2013</span> <br/> </span> </span> <span class=\"paddedline\" itemscope=\"\" itemtype=\"https://schema.org/postalAddress\"> <span class=\"companyname\" id=\"500375983COMP2\" itemprop=\"name\"> Company Name</span> <span>  － </span> <span class=\"joblocation jobcity\" id=\"500375983JCIT2\" itemprop=\"addressLocality\"> City</span> <span> , </span> <span class=\"joblocation jobstate\" id=\"500375983JSTA2\" itemprop=\"addressRegion\"> State</span> </span> <span class=\"jobline\" id=\"500375983JDES2\" itemprop=\"description\"> <ul> <li> Reviewed medical bills for the accuracy of the treatments, tests, and hospital stays prior to sanctioning the claims.</li> <li> Trained to interpret the codes (ICD-9, CPT) and terminology commonly used in medical billing to fully understand the paperwork that is submitted by healthcare providers.</li> <li> Required to have organizational and analytical skills as well as computer skills, knowledge of medical terminology and procedures, statistics, billing standards, data analysis and laws regarding medical billing.</li> </ul> </span> </div> </div> <div class=\"paragraph\" id=\"PARAGRAPH_500375983_3_326506908\" itemscope=\"\" itemtype=\"https://schema.org/Organization\" style=\"\n      padding-top:15px;\n    \"> <div class=\"singlecolumn\"> <span class=\"paddedline\"> <span class=\"jobtitle\" id=\"500375983JTIT3\"> Assistant General Manager</span> <span> </span> <span class=\"datesWrapper\"> <span class=\"jobdates\" format=\"%b %Y\" id=\"500375983JSTD3\"> Jun 2010</span> <span>  to </span> <span class=\"jobdates\" format=\"%b %Y\" id=\"500375983EDDT3\"> Dec 2010</span> <br/> </span> </span> <span class=\"paddedline\" itemscope=\"\" itemtype=\"https://schema.org/postalAddress\"> <span class=\"companyname\" id=\"500375983COMP3\" itemprop=\"name\"> Company Name</span> <span>  － </span> <span class=\"joblocation jobcity\" id=\"500375983JCIT3\" itemprop=\"addressLocality\"> City</span> <span> , </span> <span class=\"joblocation jobstate\" id=\"500375983JSTA3\" itemprop=\"addressRegion\"> State</span> </span> <span class=\"jobline\" id=\"500375983JDES3\" itemprop=\"description\"> <ul> <li> Performed duties including but not limited to, budgeting and financial management, accounting, human resources, payroll and purchasing.</li> <li> Established and maintained close working relationships with all departments of the hotel to ensure maximum operation, productivity, morale and guest service.</li> <li> Handled daily operations and reported directly to the corporate office.</li> <li> Hired and trained staff on overall objectives and goals with an emphasis on high customer service.</li> <li> Marketing and Advertising, working on public relations with the media, government and local businesses and Chamber of Commerce.</li> </ul> </span> </div> </div> <div class=\"paragraph\" id=\"PARAGRAPH_500375983_4_326506910\" itemscope=\"\" itemtype=\"https://schema.org/Organization\" style=\"\n      padding-top:5px;\n    \"> <div class=\"singlecolumn\"> <span class=\"paddedline\"> <span class=\"jobtitle\" id=\"500375983JTIT4\"> Executive Support / Marketing Assistant</span> <span> </span> <span class=\"datesWrapper\"> <span class=\"jobdates\" format=\"%b %Y\" id=\"500375983JSTD4\"> Jul 2007</span> <span>  to </span> <span class=\"jobdates\" format=\"%b %Y\" id=\"500375983EDDT4\"> Jun 2010</span> <br/> </span> </span> <span class=\"paddedline\" itemscope=\"\" itemtype=\"https://schema.org/postalAddress\"> <span class=\"companyname\" id=\"500375983COMP4\" itemprop=\"name\"> Company Name</span> <span>  － </span> <span class=\"joblocation jobcity\" id=\"500375983JCIT4\" itemprop=\"addressLocality\"> City</span> <span> , </span> <span class=\"joblocation jobstate\" id=\"500375983JSTA4\" itemprop=\"addressRegion\"> State</span> </span> <span class=\"jobline\" id=\"500375983JDES4\" itemprop=\"description\"> <ul> <li> Provided assistance to various department heads - Executive, Marketing, Customer Service, Human Resources.</li> <li> Managed front-end operations to ensure friendly and efficient transactions.</li> <li> Ensured the swift resolution of customer issues to preserve customer loyalty while complying with company policies.</li> <li> Exemplified the second-to-none customer service delivery in all interactions with customers and potential clients.</li> </ul> </span> </div> </div> <div class=\"paragraph\" id=\"PARAGRAPH_500375983_5_326506911\" itemscope=\"\" itemtype=\"https://schema.org/Organization\" style=\"\n      padding-top:10px;\n    \"> <div class=\"singlecolumn\"> <span class=\"paddedline\"> <span class=\"jobtitle\" id=\"500375983JTIT5\"> Reservation &amp; Front Office Manager</span> <span> </span> <span class=\"datesWrapper\"> <span class=\"jobdates\" format=\"%b %Y\" id=\"500375983JSTD5\"> Jun 2004</span> <span>  to </span> <span class=\"jobdates\" format=\"%b %Y\" id=\"500375983EDDT5\"> Jul 2007</span> <br/> </span> </span> <span class=\"paddedline\" itemscope=\"\" itemtype=\"https://schema.org/postalAddress\"> <span class=\"companyname\" id=\"500375983COMP5\" itemprop=\"name\"> Company Name</span> <span>  － </span> <span class=\"joblocation jobcity\" id=\"500375983JCIT5\" itemprop=\"addressLocality\"> City</span> <span> , </span> <span class=\"joblocation jobstate\" id=\"500375983JSTA5\" itemprop=\"addressRegion\"> State</span> </span> <span class=\"jobline\" id=\"500375983JDES5\" itemprop=\"description\"> </span> </div> </div> <div class=\"paragraph\" id=\"PARAGRAPH_500375983_6_326506912\" itemscope=\"\" itemtype=\"https://schema.org/Organization\" style=\"\n      padding-top:10px;\n    \"> <div class=\"singlecolumn\"> <span class=\"paddedline\"> <span class=\"jobtitle\" id=\"500375983JTIT6\"> Owner/ Partner</span> <span> </span> <span class=\"datesWrapper\"> <span class=\"jobdates\" format=\"%b %Y\" id=\"500375983JSTD6\"> Dec 2001</span> <span>  to </span> <span class=\"jobdates\" format=\"%b %Y\" id=\"500375983EDDT6\"> May 2004</span> <br/> </span> </span> <span class=\"paddedline\" itemscope=\"\" itemtype=\"https://schema.org/postalAddress\"> <span class=\"companyname\" id=\"500375983COMP6\" itemprop=\"name\"> Company Name</span> <span>  － </span> <span class=\"joblocation jobcity\" id=\"500375983JCIT6\" itemprop=\"addressLocality\"> City</span> <span> , </span> <span class=\"joblocation jobstate\" id=\"500375983JSTA6\" itemprop=\"addressRegion\"> State</span> </span> <span class=\"jobline\" id=\"500375983JDES6\" itemprop=\"description\"> </span> </div> </div> <div class=\"paragraph\" id=\"PARAGRAPH_500375983_7_326506913\" itemscope=\"\" itemtype=\"https://schema.org/Organization\" style=\"\n      padding-top:10px;\n    \"> <div class=\"singlecolumn\"> <span class=\"paddedline\"> <span class=\"jobtitle\" id=\"500375983JTIT7\"> Price Integrity Coordinator</span> <span> </span> <span class=\"datesWrapper\"> <span class=\"jobdates\" format=\"%b %Y\" id=\"500375983JSTD7\"> Aug 1999</span> <span>  to </span> <span class=\"jobdates\" format=\"%b %Y\" id=\"500375983EDDT7\"> Dec 2001</span> <br/> </span> </span> <span class=\"paddedline\" itemscope=\"\" itemtype=\"https://schema.org/postalAddress\"> <span class=\"companyname\" id=\"500375983COMP7\" itemprop=\"name\"> Company Name</span> <span>  － </span> <span class=\"joblocation jobcity\" id=\"500375983JCIT7\" itemprop=\"addressLocality\"> City</span> <span> , </span> <span class=\"joblocation jobstate\" id=\"500375983JSTA7\" itemprop=\"addressRegion\"> State</span> </span> <span class=\"jobline\" id=\"500375983JDES7\" itemprop=\"description\"> </span> </div> </div> </div> <div class=\"section\" id=\"SECTION_EDUC500400498\" style=\"\n      padding-top:0px;\n    \"> <div class=\"heading bottomborder\"> <div class=\"sectiontitle\" id=\"SECTNAME_EDUC500400498\"> Education</div> </div> <div class=\"paragraph firstparagraph\" id=\"PARAGRAPH_500400498_1_326523310\" itemscope=\"\" itemtype=\"https://schema.org/EducationalOrganization\" style=\"\n      padding-top:0px;\n    \"> <div class=\"singlecolumn\"> <span class=\"paddedline\" itemprop=\"description\"> <span class=\"degree\" id=\"500400498DGRE1\" itemprop=\"name\"> N/A</span> <span> , </span> <span class=\"programline\" id=\"500400498STUY1\"> Business Administration</span> <span class=\"datesWrapper\"> <span class=\"jobdates\" id=\"500400498GRYR1\"> 1999</span> </span> </span> <span class=\"paddedline\"> <span class=\"companyname companyname_educ\" id=\"500400498SCHO1\" itemprop=\"name\"> Jefferson College</span> <span>  － </span> <span class=\"joblocation jobcity\" id=\"500400498SCIT1\"> City</span> <span> , </span> <span class=\"joblocation jobstate\" id=\"500400498SSTA1\"> State</span> <span class=\"joblocation jobstate\" id=\"500400498SCNT1\"> </span> </span> <span class=\"field\" id=\"500400498FRFM1\"> <ul> <li> Business Administration</li> <li> Marketing / Advertising</li> </ul> </span> </div> </div> <div class=\"paragraph\" id=\"PARAGRAPH_500400498_2_326522471\" itemscope=\"\" itemtype=\"https://schema.org/EducationalOrganization\" style=\"\n      padding-top:0px;\n    \"> <div class=\"singlecolumn\"> <span class=\"paddedline\" itemprop=\"description\"> <span class=\"degree\" id=\"500400498DGRE2\" itemprop=\"name\"> High School Diploma</span> <span> , </span> <span class=\"programline\" id=\"500400498STUY2\"> College Prep. studies</span> <span class=\"datesWrapper\"> <span class=\"jobdates\" id=\"500400498GRYR2\"> 1998</span> </span> </span> <span class=\"paddedline\"> <span class=\"companyname companyname_educ\" id=\"500400498SCHO2\" itemprop=\"name\"> Sainte Genevieve Senior High</span> <span>  － </span> <span class=\"joblocation jobcity\" id=\"500400498SCIT2\"> City</span> <span> , </span> <span class=\"joblocation jobstate\" id=\"500400498SSTA2\"> State</span> <span class=\"joblocation jobstate\" id=\"500400498SCNT2\"> </span> </span> <span class=\"field\" id=\"500400498FRFM2\"> <ul> <li> Awarded American Shrubel Leadership Scholarship to Jefferson College</li> </ul> </span> </div> </div> </div> <div class=\"section\" id=\"SECTION_SKLL500375994\" style=\"\n      padding-top:0px;\n    \"> <div class=\"heading bottomborder\"> <div class=\"sectiontitle\" id=\"SECTNAME_SKLL500375994\"> Skills</div> </div> <div class=\"paragraph firstparagraph\" id=\"PARAGRAPH_500375994_1_326506918\" style=\"\n      padding-top:0px;\n    \"> <div class=\"field singlecolumn\" id=\"500375994FRFM1\"> <p align=\"LEFT\"> Accounting, ads, advertising, analytical skills, benefits, billing, budgeting, clients, Customer Service, data analysis, delivery, documentation, employee relations, financial management, government relations, Human Resources, insurance, labor relations, layout, Marketing, marketing collateral, medical billing, medical terminology, office, organizational, payroll, performance reviews, personnel, policies, posters, presentations, public relations, purchasing, reporting, statistics, website.</p> </div> </div> </div> </div>",
         "HR"
        ],
        [
         "1",
         "22323967",
         "         HR SPECIALIST, US HR OPERATIONS       Summary     Versatile  media professional with background in Communications, Marketing, Human Resources and Technology.         Experience     09/2015   to   Current     HR Specialist, US HR Operations    Company Name   －   City  ,   State       Managed communication regarding launch of Operations group, policy changes and system outages      Designed standard work and job aids to create comprehensive training program for new employees and contractors         Audited job postings for old, pending, on-hold and draft positions.           Audited union hourly, non-union hourly and salary background checks and drug screens             Conducted monthly new hire benefits briefing to new employees across all business units               Served as a link between HR Managers and vendors by handling questions and resolving system-related issues         Provide real-time process improvement feedback on key metrics and initiatives  Successfully re-branded US HR Operations SharePoint site  Business Unit project manager for RFI/RFP on Background Check and Drug Screen vendor         01/2014   to   05/2015     IT, Marketing and Communications Co-op    Company Name   －   City  ,   State      Posted new articles, changes and updates to corporate SharePoint site including graphics and visual communications.  Researched and drafted articles and feature stories to promote company activities and programs.  Co-edited and developed content for quarterly published newsletter.  Provided communication support for internal and external events.  Collaborated with Communication team, media professionals and vendors to determine program needs for print materials, web design and digital communications.  Entrusted to lead product, service and software launches for Digital Asset Management tool, Marketing Toolkit website and Executive Tradeshows Calendar.  Created presentations for management and executive approval to ensure alignment with corporate guidelines and branding.  Maintained the MySikorsky SharePoint site and provided timely solutions to mitigate issues.      Created story board and produced video for annual IT All Hands meeting.         10/2012   to   01/2014     Relationship Coordinator/Marketing Specialist    Company Name   －   City  ,   State       Partnered with vendor to manage the in-house advertising program consisting of print and media collateral pieces.     Coordinated pre-show and post-show activities at trade shows.     Managed marketing campaigns to generate new business and to support partner and sales teams.     Ordered marketing collateral for meetings, trade shows and advisors.    Improved, administered and modified marketing programs to increase product awareness.  Assisted in preparing internal promotional publications, managed marketing material inventory and supervised distribution of publications to ensure high quality product output.  Coordinated marketing materials including brochures, promotional materials and products.  Partnered with graphic designers to develop appropriate materials and branding for brochures.  Used tracking and reporting systems for sales leads and appointments.         09/2009   to   10/2012     Assistant Head Teller    Company Name   －   City  ,   State       Received an internal audit score of  100 %.     Performed daily and monthly audits of ATM machines and tellers.     Educated customers on a variety of retail products and available credit options.       Consistently met or exceeded quarterly sales goals     Promoted products and services to\ncustomers while maintaining company brand identity\n\n·    \n  Implemented programs to achieve\nand exceed customer and company participation goals \n\n   Organized company sponsored events on campus resulting in increased\nbrand awareness\n\n·    \n  Coached peers on\nthe proper use of programs to improve work flow efficiency  Utilized product knowledge to successfully sell\nto and refer clients based on individual needs  Promoted marketing the grand opening\nof new branch locations to strengthen company brand affinity\n\n·       Organized company sponsored events\nresulting in increased brand awareness and improved sales\n\n·       Coached peers on the proper use of\nprograms to increase work flow efficiency\n\n          Senior Producer - 2014 SHU Media Exchange    Company Name   －   City  ,   State      Planned and executed event focusing on Connecticut's creative corridor, growth of industry and opportunities that come with development. A  panel of industry professionals addressed topics related to media and hosted a question and answer session for approximately 110 attendees. Following the forum, guests were invited to engage in networking and conversation at a post-event reception.         Education     2014     Master of Arts  :   Corporate Communication & Public Relations    Sacred Heart University   －   City  ,   State             2013     Bachelor of Arts  :   Relational Communication    Western Connecticut State University   －   City  ,   State              Skills    Adobe Photoshop, ADP, Asset Management, branding, brochures, content, Customer Care, Final Cut Pro, graphics, graphic, HR, Illustrator, InDesign, Innovation, inventory, Lotus Notes, marketing, marketing materials, marketing material, materials, Microsoft Office, SharePoint, newsletter, presentations, process improvement, Project Management, promotional materials, publications, Quality, real-time, Recruitment, reporting, RFP, sales, stories, Employee Development, video, web design, website, articles   ",
         "<div class=\"fontsize fontface vmargins hmargins linespacing pagesize\" id=\"document\"> <div class=\"section firstsection\" id=\"SECTION_NAME911808366\" style=\"padding-top:0px;\"> <div class=\"paragraph PARAGRAPH_NAME firstparagraph\" id=\"PARAGRAPH_911808366_1_598530989\" style=\"padding-top:0px;\"> <div class=\"name thinbottomborder\" itemprop=\"name\"> <span class=\"field fName\" id=\"911808366FNAM1\"> </span> <span> </span> <span class=\"field\" id=\"911808366LNAM1\"> HR SPECIALIST, US HR OPERATIONS</span> </div> </div> </div> <div class=\"section\" id=\"SECTION_SUMM911808372\" style=\"padding-top:0px;\"> <div class=\"heading\"> <div class=\"sectiontitle\" id=\"SECTNAME_SUMM911808372\"> Summary</div> </div> <div class=\"paragraph firstparagraph\" id=\"PARAGRAPH_911808372_1_598532134\" style=\"padding-top:0px;\"> <div class=\"field singlecolumn noPind\" id=\"911808372FRFM1\"> <span class=\"\"> Versatile <font color=\"#000\" style=\"color: rgb(0, 0, 0);\"> media professional with background in Communications, Marketing, Human Resources and Technology. </font> </span> </div> </div> </div> <div class=\"section\" id=\"SECTION_EXPR911808368\" style=\"padding-top:0px;\"> <div class=\"heading\"> <div class=\"sectiontitle\" id=\"SECTNAME_EXPR911808368\"> Experience</div> </div> <div class=\"paragraph firstparagraph\" id=\"PARAGRAPH_911808368_1_598530991\" itemscope=\"\" itemtype=\"https://schema.org/Organization\" style=\"padding-top:0px;\"> <span class=\"dates_wrapper\"> <span class=\"jobdates\" format=\"%m/%Y\" id=\"911808368JSTD1\"> 09/2015</span> <span>  to </span> <span class=\"jobdates\" format=\"%m/%Y\" id=\"911808368EDDT1\"> Current</span> </span> <div class=\"singlecolumn\"> <span class=\"paddedline\"> <span class=\"jobtitle\" id=\"911808368JTIT1\"> HR Specialist, US HR Operations</span> </span> <span class=\"paddedline\" itemscope=\"\" itemtype=\"https://schema.org/postalAddress\"> <span class=\"companyname\" id=\"911808368COMP1\" itemprop=\"name\"> Company Name</span> <span>  － </span> <span class=\"joblocation jobcity\" id=\"911808368JCIT1\" itemprop=\"addressLocality\"> City</span> <span> , </span> <span class=\"joblocation jobstate\" id=\"911808368JSTA1\" itemprop=\"addressRegion\"> State</span> </span> <span class=\"paddedline\"> <span class=\"jobline\" id=\"911808368JDES1\" itemprop=\"description\"> <ul> <li> <span class=\"\"> Managed communication regarding launch of Operations group, policy changes and system outages</span> </li> <li> <span class=\"\"> <span class=\"\"> <span class=\"\"> Designed standard work and job aids to create comprehensive training program for new employees and contractors</span> </span> </span> </li> <li> <span class=\"\"> <span class=\"\"> <span class=\"\"> <span class=\"\"> Audited job postings for old, pending, on-hold and draft positions.</span> </span> </span> </span> </li> <li> <span class=\"\"> <span class=\"\"> <span class=\"\"> <span class=\"\"> <span class=\"\"> Audited union hourly, non-union hourly and salary background checks and drug screens</span> </span> </span> </span> </span> </li> <li> <span class=\"\"> <span class=\"\"> <span class=\"\"> <span class=\"\"> <span class=\"\"> <span class=\"\"> Conducted monthly new hire benefits briefing to new employees across all business units</span> </span> </span> </span> </span> </span> </li> <li> <span class=\"\"> <span class=\"\"> <span class=\"\"> <span class=\"\"> <span class=\"\"> <span class=\"\"> <span class=\"\"> Served as a link between HR Managers and vendors by handling questions and resolving system-related issues</span> </span> </span> </span> </span> </span> </span> </li> <li> Provide real-time process improvement feedback on key metrics and initiatives</li> <li> Successfully re-branded US HR Operations SharePoint site</li> <li> Business Unit project manager for RFI/RFP on Background Check and Drug Screen vendor</li> </ul> </span> </span> </div> </div> <div class=\"paragraph\" id=\"PARAGRAPH_911808368_2_598530992\" itemscope=\"\" itemtype=\"https://schema.org/Organization\" style=\"padding-top:0px;\"> <span class=\"dates_wrapper\"> <span class=\"jobdates\" format=\"%m/%Y\" id=\"911808368JSTD2\"> 01/2014</span> <span>  to </span> <span class=\"jobdates\" format=\"%m/%Y\" id=\"911808368EDDT2\"> 05/2015</span> </span> <div class=\"singlecolumn\"> <span class=\"paddedline\"> <span class=\"jobtitle\" id=\"911808368JTIT2\"> IT, Marketing and Communications Co-op</span> </span> <span class=\"paddedline\" itemscope=\"\" itemtype=\"https://schema.org/postalAddress\"> <span class=\"companyname\" id=\"911808368COMP2\" itemprop=\"name\"> Company Name</span> <span>  － </span> <span class=\"joblocation jobcity\" id=\"911808368JCIT2\" itemprop=\"addressLocality\"> City</span> <span> , </span> <span class=\"joblocation jobstate\" id=\"911808368JSTA2\" itemprop=\"addressRegion\"> State</span> </span> <span class=\"paddedline\"> <span class=\"jobline\" id=\"911808368JDES2\" itemprop=\"description\"> <ul> <li> Posted new articles, changes and updates to corporate SharePoint site including graphics and visual communications.</li> <li> Researched and drafted articles and feature stories to promote company activities and programs.</li> <li> Co-edited and developed content for quarterly published newsletter.</li> <li> Provided communication support for internal and external events.</li> <li> Collaborated with Communication team, media professionals and vendors to determine program needs for print materials, web design and digital communications.</li> <li> Entrusted to lead product, service and software launches for Digital Asset Management tool, Marketing Toolkit website and Executive Tradeshows Calendar.</li> <li> Created presentations for management and executive approval to ensure alignment with corporate guidelines and branding.</li> <li> Maintained the MySikorsky SharePoint site and provided timely solutions to mitigate issues.    </li> <li> Created story board and produced video for annual IT All Hands meeting.</li> </ul> </span> </span> </div> </div> <div class=\"paragraph\" id=\"PARAGRAPH_911808368_3_598530994\" itemscope=\"\" itemtype=\"https://schema.org/Organization\" style=\"padding-top:0px;\"> <span class=\"dates_wrapper\"> <span class=\"jobdates\" format=\"%m/%Y\" id=\"911808368JSTD3\"> 10/2012</span> <span>  to </span> <span class=\"jobdates\" format=\"%m/%Y\" id=\"911808368EDDT3\"> 01/2014</span> </span> <div class=\"singlecolumn\"> <span class=\"paddedline\"> <span class=\"jobtitle\" id=\"911808368JTIT3\"> Relationship Coordinator/Marketing Specialist</span> </span> <span class=\"paddedline\" itemscope=\"\" itemtype=\"https://schema.org/postalAddress\"> <span class=\"companyname\" id=\"911808368COMP3\" itemprop=\"name\"> Company Name</span> <span>  － </span> <span class=\"joblocation jobcity\" id=\"911808368JCIT3\" itemprop=\"addressLocality\"> City</span> <span> , </span> <span class=\"joblocation jobstate\" id=\"911808368JSTA3\" itemprop=\"addressRegion\"> State</span> </span> <span class=\"paddedline\"> <span class=\"jobline\" id=\"911808368JDES3\" itemprop=\"description\"> <ul> <li> <span class=\"\"> Partnered with vendor to manage the in-house advertising program consisting of print and media collateral pieces. </span> </li> <li> <span class=\"\"> Coordinated pre-show and post-show activities at trade shows. </span> </li> <li> <span class=\"\"> Managed marketing campaigns to generate new business and to support partner and sales teams.</span> </li> <li> <span class=\"\"> <span class=\"\"> Ordered marketing collateral for meetings, trade shows and advisors.</span> </span> </li> <li> Improved, administered and modified marketing programs to increase product awareness.</li> <li> Assisted in preparing internal promotional publications, managed marketing material inventory and supervised distribution of publications to ensure high quality product output.</li> <li> Coordinated marketing materials including brochures, promotional materials and products.</li> <li> Partnered with graphic designers to develop appropriate materials and branding for brochures.</li> <li> Used tracking and reporting systems for sales leads and appointments.</li> </ul> </span> </span> </div> </div> <div class=\"paragraph\" id=\"PARAGRAPH_911808368_4_598533900\" itemscope=\"\" itemtype=\"https://schema.org/Organization\" style=\"padding-top:0px;\"> <span class=\"dates_wrapper\"> <span class=\"jobdates\" format=\"%m/%Y\" id=\"911808368JSTD4\"> 09/2009</span> <span>  to </span> <span class=\"jobdates\" format=\"%m/%Y\" id=\"911808368EDDT4\"> 10/2012</span> </span> <div class=\"singlecolumn\"> <span class=\"paddedline\"> <span class=\"jobtitle\" id=\"911808368JTIT4\"> Assistant Head Teller</span> </span> <span class=\"paddedline\" itemscope=\"\" itemtype=\"https://schema.org/postalAddress\"> <span class=\"companyname\" id=\"911808368COMP4\" itemprop=\"name\"> Company Name</span> <span>  － </span> <span class=\"joblocation jobcity\" id=\"911808368JCIT4\" itemprop=\"addressLocality\"> City</span> <span> , </span> <span class=\"joblocation jobstate\" id=\"911808368JSTA4\" itemprop=\"addressRegion\"> State</span> </span> <span class=\"paddedline\"> <span class=\"jobline\" id=\"911808368JDES4\" itemprop=\"description\"> <ul> <li> <span class=\"\"> Received an internal audit score of <font color=\"#000\" style=\"color: rgb(0, 0, 0);\"> 100</font> %. </span> </li> <li> <span class=\"\"> Performed daily and monthly audits of ATM machines and tellers.</span> </li> <li> <span class=\"\"> <span class=\"\"> Educated customers on a variety of retail products and available credit options.</span> </span> </li> <li> <span class=\"\"> <span class=\"\"> <span class=\"\"> Consistently met or exceeded quarterly sales goals</span> </span> </span> </li> <li> Promoted products and services to\ncustomers while maintaining company brand identity\n\n·    \n</li> <li> Implemented programs to achieve\nand exceed customer and company participation goals \n\n </li> <li> Organized company sponsored events on campus resulting in increased\nbrand awareness\n\n·    \n</li> <li> Coached peers on\nthe proper use of programs to improve work flow efficiency</li> <li> Utilized product knowledge to successfully sell\nto and refer clients based on individual needs</li> <li> Promoted marketing the grand opening\nof new branch locations to strengthen company brand affinity\n\n·     </li> <li> Organized company sponsored events\nresulting in increased brand awareness and improved sales\n\n·     </li> <li> Coached peers on the proper use of\nprograms to increase work flow efficiency\n\n</li> </ul> </span> </span> </div> </div> <div class=\"paragraph\" id=\"PARAGRAPH_911808368_5_598599144\" itemscope=\"\" itemtype=\"https://schema.org/Organization\" style=\"padding-top:0px;\"> <div class=\"singlecolumn\"> <span class=\"paddedline\"> <span class=\"jobtitle\" id=\"911808368JTIT5\"> Senior Producer - 2014 SHU Media Exchange</span> </span> <span class=\"paddedline\" itemscope=\"\" itemtype=\"https://schema.org/postalAddress\"> <span class=\"companyname\" id=\"911808368COMP5\" itemprop=\"name\"> Company Name</span> <span>  － </span> <span class=\"joblocation jobcity\" id=\"911808368JCIT5\" itemprop=\"addressLocality\"> City</span> <span> , </span> <span class=\"joblocation jobstate\" id=\"911808368JSTA5\" itemprop=\"addressRegion\"> State</span> </span> <span class=\"paddedline\"> <span class=\"jobline\" id=\"911808368JDES5\" itemprop=\"description\"> <div> <span class=\"\"> Planned and executed event focusing on Connecticut's creative corridor, growth of industry and opportunities that come with development. A </span> panel of industry professionals addressed topics related to media and hosted a question and answer session for approximately 110 attendees. Following the forum, guests were invited to engage in networking and conversation at a post-event reception.</div> </span> </span> </div> </div> </div> <div class=\"section\" id=\"SECTION_EDUC911808369\" style=\"padding-top:0px;\"> <div class=\"heading\"> <div class=\"sectiontitle\" id=\"SECTNAME_EDUC911808369\"> Education</div> </div> <div class=\"paragraph firstparagraph\" id=\"PARAGRAPH_911808369_1_598530995\" itemscope=\"\" itemtype=\"https://schema.org/EducationalOrganization\" style=\"padding-top:0px;\"> <span class=\"dates_wrapper\"> <span class=\"jobdates\" id=\"911808369GRYR1\"> 2014</span> </span> <div class=\"singlecolumn\"> <span class=\"paddedline\" itemprop=\"description\"> <span class=\"degree\" id=\"911808369DGRE1\" itemprop=\"name\"> Master of Arts</span> <span> : </span> <span class=\"programline\" id=\"911808369STUY1\"> Corporate Communication &amp; Public Relations</span> </span> <span class=\"paddedline\"> <span class=\"companyname companyname_educ\" dependency=\"SCHO\" id=\"911808369SCHO1\" itemprop=\"name\"> Sacred Heart University</span> <span class=\"statesWrapper\">  － </span> <span class=\"joblocation jobcity\" id=\"911808369SCIT1\"> City</span> <span> , </span> <span class=\"joblocation jobstate\" id=\"911808369SSTA1\"> State</span> <span class=\"joblocation jobstate\" id=\"911808369SCNT1\"> </span> </span> <span class=\"paddedline\"> <span class=\"field\" id=\"911808369FRFM1\"> </span> </span> </div> </div> <div class=\"paragraph\" id=\"PARAGRAPH_911808369_2_598530996\" itemscope=\"\" itemtype=\"https://schema.org/EducationalOrganization\" style=\"padding-top:0px;\"> <span class=\"dates_wrapper\"> <span class=\"jobdates\" id=\"911808369GRYR2\"> 2013</span> </span> <div class=\"singlecolumn\"> <span class=\"paddedline\" itemprop=\"description\"> <span class=\"degree\" id=\"911808369DGRE2\" itemprop=\"name\"> Bachelor of Arts</span> <span> : </span> <span class=\"programline\" id=\"911808369STUY2\"> Relational Communication</span> </span> <span class=\"paddedline\"> <span class=\"companyname companyname_educ\" dependency=\"SCHO\" id=\"911808369SCHO2\" itemprop=\"name\"> Western Connecticut State University</span> <span class=\"statesWrapper\">  － </span> <span class=\"joblocation jobcity\" id=\"911808369SCIT2\"> City</span> <span> , </span> <span class=\"joblocation jobstate\" id=\"911808369SSTA2\"> State</span> <span class=\"joblocation jobstate\" id=\"911808369SCNT2\"> </span> </span> <span class=\"paddedline\"> <span class=\"field\" id=\"911808369FRFM2\"> </span> </span> </div> </div> </div> <div class=\"section\" id=\"SECTION_SKLL911808371\" style=\"padding-top:0px;\"> <div class=\"heading\"> <div class=\"sectiontitle\" id=\"SECTNAME_SKLL911808371\"> Skills</div> </div> <div class=\"paragraph firstparagraph\" id=\"PARAGRAPH_911808371_1_598531001\" style=\"padding-top:0px;\"> <div class=\"field singlecolumn\" id=\"911808371FRFM1\"> Adobe Photoshop, ADP, Asset Management, branding, brochures, content, Customer Care, Final Cut Pro, graphics, graphic, HR, Illustrator, InDesign, Innovation, inventory, Lotus Notes, marketing, marketing materials, marketing material, materials, Microsoft Office, SharePoint, newsletter, presentations, process improvement, Project Management, promotional materials, publications, Quality, real-time, Recruitment, reporting, RFP, sales, stories, Employee Development, video, web design, website, articles</div> </div> </div> </div>",
         "HR"
        ],
        [
         "2",
         "33176873",
         "         HR DIRECTOR       Summary      Over 20 years experience in recruiting,   15 plus years in Human Resources Executive Management,   5 years of HRIS development and maintenance  4 years working in a Healthcare Enviroment        Skills          Recruiting  FMLA/EEO/FLSA   HRIS Development      Benefit Administration  Policy Development  Web Page Development             Accomplishments      Kansas Health Institute -Health Outcomes for the State of Kansas -1999 \nMemberships and Accolades: Project Management Institute Member, SHRM, Chamber of Commerce, 1999 Friends University President's Honor Roll, 1997 Friends University Dean's Honor Roll, Student Liaison for Friends University Topeka (member of Mother-To-Mother, member of the Topeka \nAdvertising Federation, several production pieces created nominated for ADDY Awards, received recognition for outstanding customer service assistance by the State of Kansas Travel and Tourism Department., ASHHRA, KAHHR, ACM.  Additional Information: \nLeading Change -I have been instrumental in development and implementation of the Adjutant General's Retention Research project, involving survey development and analyzing the results of the surveys to present to the Adjutant General to help retain the qualified talent of the Departments.  I have been tasked with working with the Federal Security Manager for the Joint Forces Headquarters in developing policies, procedures and processes to ensure that all current and new State Employees have the appropriate security clearances for the position held per the Federal Government Requirements.  While at LMIS, I lead the Job Vacancy Project and was able to produce results in less time and man hours than in years before with staff that were inexperienced in the JVC process and procedures.  I have been responsible to develop, plan and implement database programs, for the last three positions I have held.  These were designed to cultivate, involve, renew contact, and promote active and potential employees.  These databases were used for reporting FTE usage, budget management and turnover reports.  While working in the healthcare field, I took the initiative in creating a local website that was used to receive and respond to requests for information and assistance in marketing and promoting the healthcare facility along with recruitment of potential employees.  As Human Resource Coordinator in the healthcare field, I managed the front office personnel, reduced contract labor costs for nursing staff and implemented a unique pay structure to increase PRN staff utilization.  I continually think \"Outside-the-box\" to create and develop strategies to resolve issues faced in my work environment.  In my current position, I have met and exceeded all hiring goals for the firm.  This resulted in our client increasing the business transferred to our location.        Experience      HR Director   09/2016   to   Current     Company Name   City  ,   State       Developed New Website for Agency, payroll processing changes, and implementation of\nnew HRIS System.   Oversaw the employment process taking the lead role in clinician, physician and management\nteam recruitment initiatives.\n\n  Developed, maintain\nand interpret HR policy. Authored the Employee Handbook.\n\nProvided coaching\nand support to management and supervisors on performance management and other\nrelated issues. \n\n  Maintained in-depth\nknowledge of legal requirements related to day-to-day management of employees,\nreducing legal risks and ensuring regulatory compliance.   Evaluated and\nrecommend changes to the employee benefits plan. Oversaw day to day\nadministration of benefits.            HR Director   04/2009   to   09/2016     Company Name   City  ,   State       Develped Supervisory Education, SHRO Website, SHRO HRIS System and Automation of payroll processing.  Established and directed a comprehensive statewide human resource program for both classified and unclassified State employees/positions in the Adjutant General's Department.  Resolved non-routine HR related issues associated as they arose; reviewed documents and approved all hires and promotions; reviews and approved, modified and/or disapproved wage/salary requests to hire individuals above the pre-established minimum classified or unclassified pay rate,   Reviewed any significant changes to position descriptions and determined if reclassification should be pursued; reviewed position descriptions for new positions and determined the appropriate wage range based on comparable classified position (if they exist),   Consulted with the TAG and both military and state manager/ supervisors in order to provide technical and common sense guidance on properly addressing sensitive or complex employee and organizational issues; aided them in achieving their ever changing program goals and provided innovative ideas for staffing;             Served as the administration's management representative in labor negotiations with the local KAPE unit at the 190th Fire Department.          HR Manager/Sr. Recruiter   10/2003   to   06/2006     Company Name   City  ,   State       Created an HRIS tracking system used for recruitment.  Responsible for Ramp up and hiring of all customer service agents, and other positions as needed.  Placement and development of all advertising \nMet and exceeded all hiring goals. Responsible for Hiring Senior Management to cover such duties as: Team Managers, Payroll, Quality Control.  Responsible for recruitment of 950 new employees, meeting and exceeded goals set.  Coordinated and facilitated manpower planning, recruitment and retention, career development and training, staff relations, compensation and benefits, compliance with local, state and federal statutory regulations, public programs, and regulatory audit procedures.  Served as a resource person to administration, mid-level management and staff regarding HR related.          Human Resources Coordinator   03/1996   to   02/2000     Company Name   City  ,   State       Developed HRIS database from ground up for employee records and monitoring.  Instrumental in reducing the use of Agency Staffing needs for hospital.  Coordinated and facilitates manpower planning, recruitment and retention, career development and training, staff relations, compensation and benefits, compliance with local, state and federal statutory regulations, public programs, and regulatory audit procedures.  Served as the HR resource source for administration, mid-level management and staff.  Coordinated hiring procedures, appraisals, pay increases, promotions, transfers, terminations, job postings, and all corrective actions;  One Person Office, responsible for all OSHA, Work Comp, Benefits, payroll, etc.          Education and Training      Master's Degree  :   Information Management Systems   05/2005       Friends University   City  ,   State  ,   United States     3.5 Credits Earned: 62 Semester hours Information Management Systems        Bachelor of Science  :   Organizational Management   05/2000       Friends University   City  ,   State  ,   United States      4.0 Credits Earned: 62 Semester hours             Activities and Honors    Topeka Chamber of Commerce -Ambassador \nKansas Hospital Association -Health Care Human Resources Member \nSHRM -Legislative Liaison      Skills      Desktop Publishing,   Newsletter productions,   DATABASE Management,   Leadership \n\nTraining,  OSHA, FMLA, \n\nWorkers Compensation.   PageMaker,   Agency Automation, back-up,   Benefits,  Budget management,  Corel Suite,   Harvard Graphics,  Access, Excel, Microsoft Publisher, MS Word,    Quark Express, Quattro Pro,   Strategic Planning,    Web page development,   WordPerfect     ",
         "<div class=\"fontsize fontface vmargins hmargins linespacing pagesize\" id=\"document\"> <div class=\"section firstsection\" id=\"SECTION_NAME1008511259\" style=\"padding-top:0px;\"> <div class=\"paragraph PARAGRAPH_NAME firstparagraph\" id=\"PARAGRAPH_1008511259_1_669264982\" style=\"padding-top:0px;\"> <div class=\"name\" itemprop=\"name\"> <span class=\"field\" id=\"1008511259FNAM1\"> </span> <span> </span> <span class=\"field lName\" id=\"1008511259LNAM1\"> HR DIRECTOR</span> </div> </div> </div> <div class=\"section\" id=\"SECTION_SUMM1008511268\" style=\"padding-top:0px;\"> <div class=\"heading\"> <div class=\"sectiontitle\" id=\"SECTNAME_SUMM1008511268\"> Summary</div> </div> <div class=\"paragraph firstparagraph\" id=\"PARAGRAPH_1008511268_1_669265697\" style=\"padding-top:0px;\"> <div class=\"field singlecolumn\" id=\"1008511268FRFM1\"> <ul> <li> Over 20 years experience in recruiting, </li> <li> 15 plus years in Human Resources Executive Management, </li> <li> 5 years of HRIS development and maintenance</li> <li> 4 years working in a Healthcare Enviroment</li> </ul> </div> </div> </div> <div class=\"section\" id=\"SECTION_HILT1008511269\" style=\"padding-top:0px;\"> <div class=\"heading\"> <div class=\"sectiontitle\" id=\"SECTNAME_HILT1008511269\"> Skills</div> </div> <div class=\"paragraph firstparagraph\" id=\"PARAGRAPH_1008511269_1_669266591\" style=\"padding-top:0px;\"> <div class=\"singlecolumn maincolumn\"> <table class=\"twocol\"> <tbody> <tr> <td class=\"field twocol_1\" id=\"1008511269SKC11\"> <ul> <li> Recruiting</li> <li> FMLA/EEO/FLSA </li> <li> HRIS Development</li> </ul> </td> <td class=\"field twocol_2\" id=\"1008511269SKC21\"> <ul> <li> Benefit Administration</li> <li> Policy Development</li> <li> Web Page Development </li> </ul> </td> </tr> </tbody> </table> </div> </div> </div> <div class=\"section\" id=\"SECTION_ACCM1008511264\" style=\"padding-top:0px;\"> <div class=\"heading\"> <div class=\"sectiontitle\" id=\"SECTNAME_ACCM1008511264\"> Accomplishments</div> </div> <div class=\"paragraph firstparagraph\" id=\"PARAGRAPH_1008511264_1_669264997\" style=\"padding-top:0px;\"> <div class=\"field singlecolumn\" id=\"1008511264FRFM1\"> <ul> <li> Kansas Health Institute -Health Outcomes for the State of Kansas -1999 \nMemberships and Accolades: Project Management Institute Member, SHRM, Chamber of Commerce, 1999 Friends University President's Honor Roll, 1997 Friends University Dean's Honor Roll, Student Liaison for Friends University Topeka (member of Mother-To-Mother, member of the Topeka \nAdvertising Federation, several production pieces created nominated for ADDY Awards, received recognition for outstanding customer service assistance by the State of Kansas Travel and Tourism Department., ASHHRA, KAHHR, ACM.</li> <li> Additional Information: \nLeading Change -I have been instrumental in development and implementation of the Adjutant General's Retention Research project, involving survey development and analyzing the results of the surveys to present to the Adjutant General to help retain the qualified talent of the Departments.</li> <li> I have been tasked with working with the Federal Security Manager for the Joint Forces Headquarters in developing policies, procedures and processes to ensure that all current and new State Employees have the appropriate security clearances for the position held per the Federal Government Requirements.</li> <li> While at LMIS, I lead the Job Vacancy Project and was able to produce results in less time and man hours than in years before with staff that were inexperienced in the JVC process and procedures.</li> <li> I have been responsible to develop, plan and implement database programs, for the last three positions I have held.</li> <li> These were designed to cultivate, involve, renew contact, and promote active and potential employees.</li> <li> These databases were used for reporting FTE usage, budget management and turnover reports.</li> <li> While working in the healthcare field, I took the initiative in creating a local website that was used to receive and respond to requests for information and assistance in marketing and promoting the healthcare facility along with recruitment of potential employees.</li> <li> As Human Resource Coordinator in the healthcare field, I managed the front office personnel, reduced contract labor costs for nursing staff and implemented a unique pay structure to increase PRN staff utilization.</li> <li> I continually think \"Outside-the-box\" to create and develop strategies to resolve issues faced in my work environment.</li> <li> In my current position, I have met and exceeded all hiring goals for the firm.</li> <li> This resulted in our client increasing the business transferred to our location.</li> </ul> </div> </div> </div> <div class=\"section\" id=\"SECTION_EXPR1008511263\" style=\"padding-top:0px;\"> <div class=\"heading\"> <div class=\"sectiontitle\" id=\"SECTNAME_EXPR1008511263\"> Experience</div> </div> <div class=\"paragraph firstparagraph\" id=\"PARAGRAPH_1008511263_1_669264984\" itemscope=\"\" itemtype=\"https://schema.org/Organization\" style=\"padding-top:0px;\"> <div class=\"singlecolumn\"> <span class=\"paddedline\"> <span class=\"jobtitle\" id=\"1008511263JTIT1\"> HR Director</span> <span class=\"datesWrapper\"> <span class=\"jobdates\" format=\"%m/%Y\" id=\"1008511263JSTD1\"> 09/2016</span> <span class=\"jobdates\">  to </span> <span class=\"jobdates\" format=\"%m/%Y\" id=\"1008511263EDDT1\"> Current</span> </span> </span> <span class=\"paddedline\" itemscope=\"\" itemtype=\"https://schema.org/postalAddress\"> <span class=\"companyname\" id=\"1008511263COMP1\" itemprop=\"name\"> Company Name</span> <span class=\"datesWrapper\"> <span class=\"joblocation jobcity\" id=\"1008511263JCIT1\" itemprop=\"addressLocality\"> City</span> <span class=\"joblocation\"> , </span> <span class=\"joblocation jobstate\" id=\"1008511263JSTA1\" itemprop=\"addressRegion\"> State</span> </span> </span> <span class=\"paddedline\"> <span class=\"jobline\" id=\"1008511263JDES1\" itemprop=\"description\"> <ul> <li> Developed New Website for Agency, payroll processing changes, and implementation of\nnew HRIS System. </li> <li> Oversaw the employment process taking the lead role in clinician, physician and management\nteam recruitment initiatives.\n\n</li> <li> Developed, maintain\nand interpret HR policy. Authored the Employee Handbook.\n\nProvided coaching\nand support to management and supervisors on performance management and other\nrelated issues. \n\n</li> <li> Maintained in-depth\nknowledge of legal requirements related to day-to-day management of employees,\nreducing legal risks and ensuring regulatory compliance. </li> <li> Evaluated and\nrecommend changes to the employee benefits plan. Oversaw day to day\nadministration of benefits. <br/> </li> </ul> </span> </span> </div> </div> <div class=\"paragraph\" id=\"PARAGRAPH_1008511263_2_669264985\" itemscope=\"\" itemtype=\"https://schema.org/Organization\" style=\"padding-top:0px;\"> <div class=\"singlecolumn\"> <span class=\"paddedline\"> <span class=\"jobtitle\" id=\"1008511263JTIT2\"> HR Director</span> <span class=\"datesWrapper\"> <span class=\"jobdates\" format=\"%m/%Y\" id=\"1008511263JSTD2\"> 04/2009</span> <span class=\"jobdates\">  to </span> <span class=\"jobdates\" format=\"%m/%Y\" id=\"1008511263EDDT2\"> 09/2016</span> </span> </span> <span class=\"paddedline\" itemscope=\"\" itemtype=\"https://schema.org/postalAddress\"> <span class=\"companyname\" id=\"1008511263COMP2\" itemprop=\"name\"> Company Name</span> <span class=\"datesWrapper\"> <span class=\"joblocation jobcity\" id=\"1008511263JCIT2\" itemprop=\"addressLocality\"> City</span> <span class=\"joblocation\"> , </span> <span class=\"joblocation jobstate\" id=\"1008511263JSTA2\" itemprop=\"addressRegion\"> State</span> </span> </span> <span class=\"paddedline\"> <span class=\"jobline\" id=\"1008511263JDES2\" itemprop=\"description\"> <ul> <li> Develped Supervisory Education, SHRO Website, SHRO HRIS System and Automation of payroll processing.</li> <li> Established and directed a comprehensive statewide human resource program for both classified and unclassified State employees/positions in the Adjutant General's Department.</li> <li> Resolved non-routine HR related issues associated as they arose; reviewed documents and approved all hires and promotions; reviews and approved, modified and/or disapproved wage/salary requests to hire individuals above the pre-established minimum classified or unclassified pay rate,</li> <li>  Reviewed any significant changes to position descriptions and determined if reclassification should be pursued; reviewed position descriptions for new positions and determined the appropriate wage range based on comparable classified position (if they exist),<br/> </li> <li> Consulted with the TAG and both military and state manager/ supervisors in order to provide technical and common sense guidance on properly addressing sensitive or complex employee and organizational issues; aided them in achieving their ever changing program goals and provided innovative ideas for staffing; </li> <li class=\"tempListItem\" style=\"list-style-type:none\"> </li> <li class=\"tempListItem\" style=\"list-style-type:none\"> </li> <div class=\"newSpan\" style=\"margin-left: -53px;\"> </div> <li class=\"tempListItem\" style=\"list-style-type:none\"> </li> <li class=\"tempListItem\" style=\"list-style-type:none\"> </li> <li> Served as the administration's management representative in labor negotiations with the local KAPE unit at the 190th Fire Department.</li> </ul> </span> </span> </div> </div> <div class=\"paragraph\" id=\"PARAGRAPH_1008511263_3_669264992\" itemscope=\"\" itemtype=\"https://schema.org/Organization\" style=\"padding-top:0px;\"> <div class=\"singlecolumn\"> <span class=\"paddedline\"> <span class=\"jobtitle\" id=\"1008511263JTIT3\"> HR Manager/Sr. Recruiter</span> <span class=\"datesWrapper\"> <span class=\"jobdates\" format=\"%m/%Y\" id=\"1008511263JSTD3\"> 10/2003</span> <span class=\"jobdates\">  to </span> <span class=\"jobdates\" format=\"%m/%Y\" id=\"1008511263EDDT3\"> 06/2006</span> </span> </span> <span class=\"paddedline\" itemscope=\"\" itemtype=\"https://schema.org/postalAddress\"> <span class=\"companyname\" id=\"1008511263COMP3\" itemprop=\"name\"> Company Name</span> <span class=\"datesWrapper\"> <span class=\"joblocation jobcity\" id=\"1008511263JCIT3\" itemprop=\"addressLocality\"> City</span> <span class=\"joblocation\"> , </span> <span class=\"joblocation jobstate\" id=\"1008511263JSTA3\" itemprop=\"addressRegion\"> State</span> </span> </span> <span class=\"paddedline\"> <span class=\"jobline\" id=\"1008511263JDES3\" itemprop=\"description\"> <ul> <li> Created an HRIS tracking system used for recruitment.</li> <li> Responsible for Ramp up and hiring of all customer service agents, and other positions as needed.</li> <li> Placement and development of all advertising \nMet and exceeded all hiring goals. Responsible for Hiring Senior Management to cover such duties as: Team Managers, Payroll, Quality Control.</li> <li> Responsible for recruitment of 950 new employees, meeting and exceeded goals set.</li> <li> Coordinated and facilitated manpower planning, recruitment and retention, career development and training, staff relations, compensation and benefits, compliance with local, state and federal statutory regulations, public programs, and regulatory audit procedures.</li> <li> Served as a resource person to administration, mid-level management and staff regarding HR related.</li> </ul> </span> </span> </div> </div> <div class=\"paragraph\" id=\"PARAGRAPH_1008511263_4_669264993\" itemscope=\"\" itemtype=\"https://schema.org/Organization\" style=\"padding-top:0px;\"> <div class=\"singlecolumn\"> <span class=\"paddedline\"> <span class=\"jobtitle\" id=\"1008511263JTIT4\"> Human Resources Coordinator</span> <span class=\"datesWrapper\"> <span class=\"jobdates\" format=\"%m/%Y\" id=\"1008511263JSTD4\"> 03/1996</span> <span class=\"jobdates\">  to </span> <span class=\"jobdates\" format=\"%m/%Y\" id=\"1008511263EDDT4\"> 02/2000</span> </span> </span> <span class=\"paddedline\" itemscope=\"\" itemtype=\"https://schema.org/postalAddress\"> <span class=\"companyname\" id=\"1008511263COMP4\" itemprop=\"name\"> Company Name</span> <span class=\"datesWrapper\"> <span class=\"joblocation jobcity\" id=\"1008511263JCIT4\" itemprop=\"addressLocality\"> City</span> <span class=\"joblocation\"> , </span> <span class=\"joblocation jobstate\" id=\"1008511263JSTA4\" itemprop=\"addressRegion\"> State</span> </span> </span> <span class=\"paddedline\"> <span class=\"jobline\" id=\"1008511263JDES4\" itemprop=\"description\"> <ul> <li> Developed HRIS database from ground up for employee records and monitoring.</li> <li> Instrumental in reducing the use of Agency Staffing needs for hospital.</li> <li> Coordinated and facilitates manpower planning, recruitment and retention, career development and training, staff relations, compensation and benefits, compliance with local, state and federal statutory regulations, public programs, and regulatory audit procedures.</li> <li> Served as the HR resource source for administration, mid-level management and staff.</li> <li> Coordinated hiring procedures, appraisals, pay increases, promotions, transfers, terminations, job postings, and all corrective actions;</li> <li> One Person Office, responsible for all OSHA, Work Comp, Benefits, payroll, etc.</li> </ul> </span> </span> </div> </div> </div> <div class=\"section\" id=\"SECTION_EDUC1008511265\" style=\"padding-top:0px;\"> <div class=\"heading\"> <div class=\"sectiontitle\" id=\"SECTNAME_EDUC1008511265\"> Education and Training</div> </div> <div class=\"paragraph firstparagraph\" id=\"PARAGRAPH_1008511265_1_669264998\" itemscope=\"\" itemtype=\"https://schema.org/EducationalOrganization\" style=\"padding-top:0px;\"> <div class=\"singlecolumn\"> <span class=\"paddedline\" itemprop=\"description\"> <span class=\"degree\" id=\"1008511265DGRE1\" itemprop=\"name\"> Master's Degree</span> <span> : </span> <span class=\"programline\" id=\"1008511265STUY1\"> Information Management Systems</span> <span class=\"datesWrapper\"> <span class=\"jobdates\" id=\"1008511265GRYR1\"> 05/2005</span> <span> </span> </span> </span> <span class=\"paddedline\"> <span class=\"companyname companyname_educ\" id=\"1008511265SCHO1\" itemprop=\"name\"> Friends University</span> <span class=\"datesWrapper\"> <span class=\"joblocation jobcity educity\" id=\"1008511265SCIT1\"> City</span> <span> , </span> <span class=\"joblocation jobstate edustate\" id=\"1008511265SSTA1\"> State</span> <span> , </span> <span class=\"joblocation eduCountry\" id=\"1008511265SCNT1\"> United States</span> </span> </span> <span class=\"paddedline\"> <span class=\"field\" id=\"1008511265FRFM1\"> 3.5 Credits Earned: 62 Semester hours Information Management Systems</span> </span> </div> </div> <div class=\"paragraph\" id=\"PARAGRAPH_1008511265_2_669264999\" itemscope=\"\" itemtype=\"https://schema.org/EducationalOrganization\" style=\"padding-top:0px;\"> <div class=\"singlecolumn\"> <span class=\"paddedline\" itemprop=\"description\"> <span class=\"degree\" id=\"1008511265DGRE2\" itemprop=\"name\"> Bachelor of Science</span> <span> : </span> <span class=\"programline\" id=\"1008511265STUY2\"> Organizational Management</span> <span class=\"datesWrapper\"> <span class=\"jobdates\" id=\"1008511265GRYR2\"> 05/2000</span> <span> </span> </span> </span> <span class=\"paddedline\"> <span class=\"companyname companyname_educ\" id=\"1008511265SCHO2\" itemprop=\"name\"> Friends University</span> <span class=\"datesWrapper\"> <span class=\"joblocation jobcity educity\" id=\"1008511265SCIT2\"> City</span> <span> , </span> <span class=\"joblocation jobstate edustate\" id=\"1008511265SSTA2\"> State</span> <span> , </span> <span class=\"joblocation eduCountry\" id=\"1008511265SCNT2\"> United States</span> </span> </span> <span class=\"paddedline\"> <span class=\"field\" id=\"1008511265FRFM2\"> <div> 4.0 Credits Earned: 62 Semester hours </div> <div> <br/> </div> </span> </span> </div> </div> </div> <div class=\"section\" id=\"SECTION_AFIL1008511266\" style=\"padding-top:0px;\"> <div class=\"heading\"> <div class=\"sectiontitle\" id=\"SECTNAME_AFIL1008511266\"> Activities and Honors</div> </div> <div class=\"paragraph firstparagraph\" id=\"PARAGRAPH_1008511266_1_669265000\" style=\"padding-top:0px;\"> <div class=\"field singlecolumn\" id=\"1008511266FRFM1\"> Topeka Chamber of Commerce -Ambassador \nKansas Hospital Association -Health Care Human Resources Member \nSHRM -Legislative Liaison</div> </div> </div> <div class=\"section\" id=\"SECTION_SKLL1008511267\" style=\"padding-top:0px;\"> <div class=\"heading\"> <div class=\"sectiontitle\" id=\"SECTNAME_SKLL1008511267\"> Skills</div> </div> <div class=\"paragraph firstparagraph\" id=\"PARAGRAPH_1008511267_1_669265001\" style=\"padding-top:0px;\"> <div class=\"field singlecolumn\" id=\"1008511267FRFM1\"> <ul> <li> Desktop Publishing, </li> <li> Newsletter productions, </li> <li> DATABASE Management, </li> <li> Leadership \n\nTraining,</li> <li> OSHA, FMLA, \n\nWorkers Compensation. </li> <li> PageMaker, </li> <li> Agency Automation, back-up, </li> <li> Benefits,</li> <li> Budget management,</li> <li> Corel Suite, </li> <li> Harvard Graphics,</li> <li> Access, Excel, Microsoft Publisher, MS Word,  </li> <li> Quark Express, Quattro Pro, </li> <li> Strategic Planning,  </li> <li> Web page development, </li> <li> WordPerfect</li> </ul> </div> </div> </div> </div>",
         "HR"
        ],
        [
         "3",
         "27018550",
         "         HR SPECIALIST       Summary    Dedicated, Driven, and Dynamic with over 20 years of customer service expertise. Motivated to maintain customer satisfaction and contribute to company success with an emphasis in personnel and process management. Solid team player with proven ability to establish rapport with clients.       Skills          Type 50 wpm and 10-Key by touch  Microsoft programs Word, Excel, Access, Outlook, PowerPoint  Personnel management  and Telephone inquiries specialist      Excellent customer service skills with call quality and customer satisfaction as primary focus.  Inbound and Outbound contact center experience  Excellent oral and written presentation and seasoned in conflict resolution             Experience      Hr Specialist     May 2007   to   Oct 2008      Company Name   －   City  ,   State     Accenture Peopleline Email Management Team.  Received inbound emails from clients as initial point of contact to answer questions related to HR policies, practices or to resolve issues.  Helped the client by answering their inquiry, resolving their issue or routing their email to a caseworker for resolution.  Recorded and tracked the client issue via the case management tool from initiation to resolution.  Maintained records of customer interactions and transactions by documenting details of inquiries, complaints, and comments as well as actions taken.         Customer Service Representative     Mar 2007   to   Feb 2008      Company Name   －   City  ,   State     Maintained records of customer interactions and transactions by documenting details of inquiries, complaints, and comments, as well as actions taken.  Developed and implemented filing and delivery methods for FMLA and Short Term Disability documentation to respective global clientele.  Facilitated communication for the Absence Management Team to clients and internal departmental teams.  Organized and maintained payroll and people services database management system.  Communicated to clients and internal/external departmental teams mitigated risks and resolutions regarding  policy, transactions and other queries         Call Centre Shift Supervisor     Aug 2003   to   Mar 2007      Company Name   －   City  ,   State   Answered and Dispatched calls for Medical and Professional clients in the San Antonio and surrounding areas. Provided call monitoring to ensure staff was adhering to quality call control. Maintained On Call books for various medical staff to ensure that the correct staff was contacted during after hours and weekends.        Education and Training      Certificate of Completion\n*Business Administration     1997     Texas A&M Extension Services   －   City  ,   State            Skills    10-Key by touch, Type 50 wpm, filing, Access,  Microsoft Excel, Microsoft Outlook, Microsoft PowerPoint, Microsoft Word       ",
         "<div class=\"fontsize fontface vmargins hmargins linespacing pagesize\" id=\"document\"> <div class=\"section firstsection\" id=\"SECTION_NAME992636658\" style=\"padding-top:0px;\"> <div class=\"paragraph PARAGRAPH_NAME firstparagraph\" id=\"PARAGRAPH_992636658_1_657422912\" style=\"padding-top:0px;\"> <div class=\"name\" itemprop=\"name\"> <span class=\"field fName\" id=\"992636658FNAM1\"> </span> <span> </span> <span class=\"field\" id=\"992636658LNAM1\"> HR SPECIALIST</span> </div> </div> </div> <div class=\"section\" id=\"SECTION_SUMM992636662\" style=\"padding-top:0px;\"> <div class=\"heading bottomborder\"> <div class=\"sectiontitle\" id=\"SECTNAME_SUMM992636662\"> Summary</div> </div> <div class=\"paragraph firstparagraph\" id=\"PARAGRAPH_992636662_1_657422921\" style=\"padding-top:0px;\"> <div class=\"field singlecolumn\" id=\"992636662FRFM1\"> Dedicated, Driven, and Dynamic with over 20 years of customer service expertise. Motivated to maintain customer satisfaction and contribute to company success with an emphasis in personnel and process management. Solid team player with proven ability to establish rapport with clients. </div> </div> </div> <div class=\"section\" id=\"SECTION_HILT992636663\" style=\"padding-top:0px;\"> <div class=\"heading bottomborder\"> <div class=\"sectiontitle\" id=\"SECTNAME_HILT992636663\"> Skills</div> </div> <div class=\"paragraph firstparagraph\" id=\"PARAGRAPH_992636663_1_657422922\" style=\"padding-top:0px;\"> <div class=\"singlecolumn maincolumn\"> <table class=\"twocol\"> <tbody> <tr> <td class=\"field twocol_1\" id=\"992636663SKC11\"> <ul> <li> Type 50 wpm and 10-Key by touch</li> <li> Microsoft programs Word, Excel, Access, Outlook, PowerPoint</li> <li> Personnel management  and Telephone inquiries specialist</li> </ul> </td> <td class=\"field twocol_2\" id=\"992636663SKC21\"> <ul> <li> Excellent customer service skills with call quality and customer satisfaction as primary focus.</li> <li> Inbound and Outbound contact center experience</li> <li> Excellent oral and written presentation and seasoned in conflict resolution </li> </ul> </td> </tr> </tbody> </table> </div> </div> </div> <div class=\"section\" id=\"SECTION_EXPR992636660\" style=\"padding-top:0px;\"> <div class=\"heading bottomborder\"> <div class=\"sectiontitle\" id=\"SECTNAME_EXPR992636660\"> Experience</div> </div> <div class=\"paragraph firstparagraph\" id=\"PARAGRAPH_992636660_1_657422914\" itemscope=\"\" itemtype=\"https://schema.org/Organization\" style=\"padding-top:0px;\"> <div class=\"singlecolumn\"> <span class=\"paddedline\"> <span class=\"jobtitle\" id=\"992636660JTIT1\"> Hr Specialist</span> <span> </span> <span class=\"datesWrapper\"> <span class=\"jobdates\" format=\"%b %Y\" id=\"992636660JSTD1\"> May 2007</span> <span>  to </span> <span class=\"jobdates\" format=\"%b %Y\" id=\"992636660EDDT1\"> Oct 2008</span> <br/> </span> </span> <span class=\"paddedline\" itemscope=\"\" itemtype=\"https://schema.org/postalAddress\"> <span class=\"companyname\" id=\"992636660COMP1\" itemprop=\"name\"> Company Name</span> <span>  － </span> <span class=\"joblocation jobcity\" id=\"992636660JCIT1\" itemprop=\"addressLocality\"> City</span> <span> , </span> <span class=\"joblocation jobstate\" id=\"992636660JSTA1\" itemprop=\"addressRegion\"> State</span> </span> <span class=\"jobline\" id=\"992636660JDES1\" itemprop=\"description\"> <ul> <li> Accenture Peopleline Email Management Team.</li> <li> Received inbound emails from clients as initial point of contact to answer questions related to HR policies, practices or to resolve issues.</li> <li> Helped the client by answering their inquiry, resolving their issue or routing their email to a caseworker for resolution.</li> <li> Recorded and tracked the client issue via the case management tool from initiation to resolution.</li> <li> Maintained records of customer interactions and transactions by documenting details of inquiries, complaints, and comments as well as actions taken.</li> </ul> </span> </div> </div> <div class=\"paragraph\" id=\"PARAGRAPH_992636660_2_657422916\" itemscope=\"\" itemtype=\"https://schema.org/Organization\" style=\"padding-top:0px;\"> <div class=\"singlecolumn\"> <span class=\"paddedline\"> <span class=\"jobtitle\" id=\"992636660JTIT2\"> Customer Service Representative</span> <span> </span> <span class=\"datesWrapper\"> <span class=\"jobdates\" format=\"%b %Y\" id=\"992636660JSTD2\"> Mar 2007</span> <span>  to </span> <span class=\"jobdates\" format=\"%b %Y\" id=\"992636660EDDT2\"> Feb 2008</span> <br/> </span> </span> <span class=\"paddedline\" itemscope=\"\" itemtype=\"https://schema.org/postalAddress\"> <span class=\"companyname\" id=\"992636660COMP2\" itemprop=\"name\"> Company Name</span> <span>  － </span> <span class=\"joblocation jobcity\" id=\"992636660JCIT2\" itemprop=\"addressLocality\"> City</span> <span> , </span> <span class=\"joblocation jobstate\" id=\"992636660JSTA2\" itemprop=\"addressRegion\"> State</span> </span> <span class=\"jobline\" id=\"992636660JDES2\" itemprop=\"description\"> <ul> <li> Maintained records of customer interactions and transactions by documenting details of inquiries, complaints, and comments, as well as actions taken.</li> <li> Developed and implemented filing and delivery methods for FMLA and Short Term Disability documentation to respective global clientele.</li> <li> Facilitated communication for the Absence Management Team to clients and internal departmental teams.</li> <li> Organized and maintained payroll and people services database management system.</li> <li> Communicated to clients and internal/external departmental teams mitigated risks and resolutions regarding  policy, transactions and other queries</li> </ul> </span> </div> </div> <div class=\"paragraph\" id=\"PARAGRAPH_992636660_3_662995252\" itemscope=\"\" itemtype=\"https://schema.org/Organization\" style=\"padding-top:0px;\"> <div class=\"singlecolumn\"> <span class=\"paddedline\"> <span class=\"jobtitle\" id=\"992636660JTIT3\"> Call Centre Shift Supervisor</span> <span> </span> <span class=\"datesWrapper\"> <span class=\"jobdates\" format=\"%b %Y\" id=\"992636660JSTD3\"> Aug 2003</span> <span>  to </span> <span class=\"jobdates\" format=\"%b %Y\" id=\"992636660EDDT3\"> Mar 2007</span> <br/> </span> </span> <span class=\"paddedline\" itemscope=\"\" itemtype=\"https://schema.org/postalAddress\"> <span class=\"companyname\" id=\"992636660COMP3\" itemprop=\"name\"> Company Name</span> <span>  － </span> <span class=\"joblocation jobcity\" id=\"992636660JCIT3\" itemprop=\"addressLocality\"> City</span> <span> , </span> <span class=\"joblocation jobstate\" id=\"992636660JSTA3\" itemprop=\"addressRegion\"> State</span> </span> <span class=\"jobline\" id=\"992636660JDES3\" itemprop=\"description\"> Answered and Dispatched calls for Medical and Professional clients in the San Antonio and surrounding areas. Provided call monitoring to ensure staff was adhering to quality call control. Maintained On Call books for various medical staff to ensure that the correct staff was contacted during after hours and weekends. </span> </div> </div> </div> <div class=\"section\" id=\"SECTION_EDUC992636661\" style=\"padding-top:0px;\"> <div class=\"heading bottomborder\"> <div class=\"sectiontitle\" id=\"SECTNAME_EDUC992636661\"> Education and Training</div> </div> <div class=\"paragraph firstparagraph\" id=\"PARAGRAPH_992636661_1_657422920\" itemscope=\"\" itemtype=\"https://schema.org/EducationalOrganization\" style=\"padding-top:0px;\"> <div class=\"singlecolumn\"> <span class=\"paddedline\" itemprop=\"description\"> <span class=\"degree\" id=\"992636661DGRE1\" itemprop=\"name\"> Certificate of Completion\n*Business Administration</span> <span class=\"programline\" id=\"992636661STUY1\"> </span> <span class=\"datesWrapper\"> <span class=\"jobdates\" id=\"992636661GRYR1\"> 1997</span> </span> </span> <span class=\"paddedline\"> <span class=\"companyname companyname_educ\" id=\"992636661SCHO1\" itemprop=\"name\"> Texas A&amp;M Extension Services</span> <span>  － </span> <span class=\"joblocation jobcity\" id=\"992636661SCIT1\"> City</span> <span> , </span> <span class=\"joblocation jobstate\" id=\"992636661SSTA1\"> State</span> <span class=\"joblocation jobstate\" id=\"992636661SCNT1\"> </span> </span> <span class=\"field\" id=\"992636661FRFM1\"> </span> </div> </div> </div> <div class=\"section\" id=\"SECTION_SKLL992636664\" style=\"padding-top:0px;\"> <div class=\"heading bottomborder\"> <div class=\"sectiontitle\" id=\"SECTNAME_SKLL992636664\"> Skills</div> </div> <div class=\"paragraph firstparagraph\" id=\"PARAGRAPH_992636664_1_657422923\" style=\"padding-top:0px;\"> <div class=\"field singlecolumn\" id=\"992636664FRFM1\"> 10-Key by touch, Type 50 wpm, filing, Access,  Microsoft Excel, Microsoft Outlook, Microsoft PowerPoint, Microsoft Word<span class=\"\"> </span> </div> </div> </div> <div class=\"section\" id=\"SECTION_AFIL992636665\" style=\"padding-top:0px;\"> </div> </div>",
         "HR"
        ],
        [
         "4",
         "17812897",
         "         HR MANAGER         Skill Highlights           HR SKILLS  HR Department Startup  Three New Organization Startups  Employment Law  FMLA/ADA/EEO/WC  Mediation & Advocacy  HR Policies & Procedures\t*Staff Recruitment & Retention  Salary Negotiations  Employee Relations  Benefits Administration  Unemployment Administration  Worker's Compensation Administration  Orientation & On-Boarding  HRIS Technologies  Training & Development  Performance Management  Organizational Development  HR Program/Project Management  HRIS applications (Lawson, Paychex, Kronos, ADP)  MS Office (Word, Excel, PowerPoint, Publisher, Access, Visio, Outlook)                Professional Experience      HR Manager     Jan 2015   to   Current      Company Name   －   City  ,   State     Manage the Human Resource function for e-Cycle's corporate office as well as their fulfillment and data center, consisting of benefits and compensation administration, payroll, employee relations, policy compliance, and recruitment.  Key Results: Foster an associate-oriented culture that emphasizes continuous improvement, team- work, high performance and quality.  Ensure organizational conformation with applicable HR related regulations and statutes as well as organizational procedures and policies.  Implement HR programs and policies as needed by the organization.  Identify, evaluate, and resolve human relations, employee morale, work performance, and organizational productivity concerns.  Develop staffing strategies and implement programs and plans to identify and cultivate effective and appropriate sources for employees at all job levels.  Create or assist in the creation of associate training and organizational development programs.  Develop and manage the annual associate review process.  Insure that regional staff is included in corporate activities and feel like they are a part of the team.  Responsible for the human resource management system(s) and provide staff and management with essential reporting information in order to help them in managing their associate resources.  Recruit and retain top quality associates for each department, this includes recruiting nationally and in some cases at an executive level.  Create or assist in the creation of compensation plans.  Employee benefit administration consisting of Health, Dental, Vision, VSTD, VLTD and 401(k).  Successful in reducing the health benefit expected increase from 46% to 5% during my first month with the organization.         Sr. HR Manager     Jan 2013   to   Jan 2015      Company Name   －   City  ,   State     As a leader within the HR and Operations team, I was instrumental in partnering with local leadership and Corporate HR to develop and implement HR policies, processes, technology and services that are aligned to support our company's strategic initiatives in order to have a successful start-up.  Key Results: Coordinated efforts to recruit and hire over 220 full time hourly associates and 27 management level employees while converting agency staff to full time.  Instrumental in managing and creating the set up of the HR business office, which included development of personnel files, new hire practices, payroll, and HR reporting.  Manage, by providing direction and development to HR, and develop the HR delivery as business continued to grow.  Strategic business partner to the Site Director, as well as other operations leaders, in support of start-up operations, day-to-day operations, and peak season planning, staffing and operations.  Worked successfully with local temporary agencies in order to staff to our Peak volume, which consisted of over 1800 total associates delivering over 3 million units from Black Friday to Christmas.  Influence HR strategy and execute tactical direction for the facility within the overall HR strategy.  Ensure internal consistency of HR policies and procedures across multiple locations.  Interact with the Corporate HR team for exempt staffing, compensation and benefits, and other functional groups in order to support Operations.  Maintain knowledge of HR policies and procedures, laws and regulations, industry trends and developments to ensure accurate information is being communicated throughout the company.  Develop a work environment that demonstrates Fanatics core values.  Provide strategic direction on leadership development and workforce planning initiatives within the fulfillment center.  Coach senior business leaders and front line supervisors on HR polices, procedures, and best practices in dealing with employee relation issues, such as, poor performance, attendance, and behavior and conduct issues.  Championed a fun, friendly and approachable HR team of professionals.  Ensure integrity, maintenance and confidentiality of all personnel records in accordance with policies and procedures and applicable Federal and State laws.  Improve HR service delivery in line with overall business performance expectations.  Look for ways to innovate systems for HR delivery (People, process & technology).  Manage the HR function with measurable objectives, and communicate the bottom line impact of HR delivery to the business.         HR Director     Jan 2008   to   Jan 2012      Company Name   －   City  ,   State     As a member of the executive team, I was directly and solely responsible for providing situation appropriate and policy compliant human resource support for 2 separate business units for a community based, non-profit, health care organization with approximately 184 employees.  Key Results: Played a key role in ensuring the successful merge of five separate private physician practices into one Non-Profit organization.  Structured and implemented programs and policies in the areas of compensation structures, benefits packages, incentive compensation plans and physician employment contracts.  Fostered a teamwork/open-door environment conducive to positive dialogue across the organization with an 85% overall employee satisfaction rating.  Responsible for maintaining staffing levels for all positions within the health center which consisted of full time, part time and on-call staff.  Negotiated more than 100 salary offers at both the exempt and nonexempt level.  Successful recruitment of Physicians, CEO, COO, CFO, CMO and various managers.  Wrote employee manual covering issues including disciplinary procedures, code of conduct, FMLA, attendance policies and benefits information.  Implemented employee satisfaction surveys and presented results to Board of directors.  Introduced company's first formal performance review program.  Developed job descriptions across all levels and categories.  Shadowed\" and interviewed employees to construct an accurate picture of the duties and skills required for each position.         HR Representative     Jan 2001   to   Jan 2007      Company Name   －   City  ,   State     Nation's largest small-box discount retailer.  Fulfilled a broad range of HR Generalist functions, including recruiting, administering benefits, overseeing disciplinary action and managing HR support staff.  Key Results: Trained management team on interviewing techniques and best practices, conducted workshops and one-on-one coaching sessions that contributed to sound hiring decisions.  Instrumental in the start-up of the new 1.2 million sq.  ft.  state of the art distribution center.  Hiring over 400 plus employees within the first year that consisted of part time, full time and temporary staff.  Overseen morale-boosting programs (including special events, annual employee picnic, attendance and safety banquets, etc.  that increased employee satisfaction and productivity.  Investigated all employee relation issues, such as sexual harassment, discrimination, and inappropriate conduct by either hourly employees and or management staff.  Responsible for staffing all hourly positions, which consisted of maintaining 878 hourly employees among three shifts.         Education      Bachelor of Business Administration      MOUNT VERNON NAZARENE UNIVERSITY   －   City  ,   State            Professional Affiliations    Society for Human Resource Management (SHRM)\n*Muskingum Valley Human Resource Management Association      Skills    ADA, ADP, art, agency, benefits, Benefits Administration, Coach, coaching, conflict resolution, continuous improvement, contracts, decision making, delivery, direction, Employee Relations, special events, financial, functional, Hiring, HRIS, human resource management, Human Resource, Human Resources, HR, human relations, Kronos, Lawson, leadership, leadership development, Law, legal compliance, Director, managing, management reporting, Mediation, Access, Excel, MS Office, office, Outlook, PowerPoint, Publisher, win, Word, negotiating, Negotiations, Organizational Development, organizational, payroll, Peak, Performance Management, personnel, Policies, problem solving, processes, Profit, implement programs, Project Management, quality, quantitative analysis, Recruitment, recruiting, reporting, safety, sound, staff development, staffing, strategy, Strategic, Structured, surveys, team- work, teamwork, Visio, Vision, workshops   ",
         "<div class=\"fontsize fontface vmargins hmargins linespacing pagesize\" id=\"document\"> <div class=\"section firstsection\" id=\"SECTION_NAME666809417\" style=\"padding-top:0px;\"> <div class=\"paragraph PARAGRAPH_NAME firstparagraph\" id=\"PARAGRAPH_666809417_1_433655046\" style=\"padding-top:0px;\"> <div class=\"name\" itemprop=\"name\"> <span class=\"field fName\" id=\"666809417FNAM1\"> </span> <span> </span> <span class=\"field\" id=\"666809417LNAM1\"> HR MANAGER</span> </div> </div> </div> <div class=\"section\" id=\"SECTION_SUMM666809420\" style=\"padding-top:0px;\"> </div> <div class=\"section\" id=\"SECTION_HILT666809421\" style=\"padding-top:0px;\"> <div class=\"heading bottomborder\"> <div class=\"sectiontitle\" id=\"SECTNAME_HILT666809421\"> Skill Highlights</div> </div> <div class=\"paragraph firstparagraph\" id=\"PARAGRAPH_666809421_1_433655054\" style=\"padding-top:0px;\"> <div class=\"singlecolumn maincolumn\"> <table class=\"twocol\"> <tbody> <tr> <td class=\"field twocol_1\" id=\"666809421SKC11\"> <ul> <br/> <li> HR SKILLS</li> <li> HR Department Startup</li> <li> Three New Organization Startups</li> <li> Employment Law</li> <li> FMLA/ADA/EEO/WC</li> <li> Mediation &amp; Advocacy</li> <li> HR Policies &amp; Procedures\t*Staff Recruitment &amp; Retention</li> <li> Salary Negotiations</li> <li> Employee Relations</li> <li> Benefits Administration</li> <li> Unemployment Administration</li> <li> Worker's Compensation Administration</li> <li> Orientation &amp; On-Boarding</li> <li> HRIS Technologies</li> <li> Training &amp; Development</li> <li> Performance Management</li> <li> Organizational Development</li> <li> HR Program/Project Management</li> <li> HRIS applications (Lawson, Paychex, Kronos, ADP)</li> <li> MS Office (Word, Excel, PowerPoint, Publisher, Access, Visio, Outlook)</li> </ul> </td> <td class=\"field twocol_2\" id=\"666809421SKC21\"> </td> </tr> </tbody> </table> </div> </div> </div> <div class=\"section\" id=\"SECTION_ACCM666809651\" style=\"padding-top:0px;\"> </div> <div class=\"section\" id=\"SECTION_EXPR666809422\" style=\"padding-top:0px;\"> <div class=\"heading bottomborder\"> <div class=\"sectiontitle\" id=\"SECTNAME_EXPR666809422\"> Professional Experience</div> </div> <div class=\"paragraph firstparagraph\" id=\"PARAGRAPH_666809422_1_433655048\" itemscope=\"\" itemtype=\"https://schema.org/Organization\" style=\"padding-top:0px;\"> <div class=\"singlecolumn\"> <span class=\"paddedline\"> <span class=\"jobtitle\" id=\"666809422JTIT1\"> HR Manager</span> <span> </span> <span class=\"datesWrapper\"> <span class=\"jobdates\" format=\"%b %Y\" id=\"666809422JSTD1\"> Jan 2015</span> <span>  to </span> <span class=\"jobdates\" format=\"%b %Y\" id=\"666809422EDDT1\"> Current</span> <br/> </span> </span> <span class=\"paddedline\" itemscope=\"\" itemtype=\"https://schema.org/postalAddress\"> <span class=\"companyname\" id=\"666809422COMP1\" itemprop=\"name\"> Company Name</span> <span>  － </span> <span class=\"joblocation jobcity\" id=\"666809422JCIT1\" itemprop=\"addressLocality\"> City</span> <span> , </span> <span class=\"joblocation jobstate\" id=\"666809422JSTA1\" itemprop=\"addressRegion\"> State</span> </span> <span class=\"jobline\" id=\"666809422JDES1\" itemprop=\"description\"> <ul> <li> Manage the Human Resource function for e-Cycle's corporate office as well as their fulfillment and data center, consisting of benefits and compensation administration, payroll, employee relations, policy compliance, and recruitment.</li> <li> Key Results: Foster an associate-oriented culture that emphasizes continuous improvement, team- work, high performance and quality.</li> <li> Ensure organizational conformation with applicable HR related regulations and statutes as well as organizational procedures and policies.</li> <li> Implement HR programs and policies as needed by the organization.</li> <li> Identify, evaluate, and resolve human relations, employee morale, work performance, and organizational productivity concerns.</li> <li> Develop staffing strategies and implement programs and plans to identify and cultivate effective and appropriate sources for employees at all job levels.</li> <li> Create or assist in the creation of associate training and organizational development programs.</li> <li> Develop and manage the annual associate review process.</li> <li> Insure that regional staff is included in corporate activities and feel like they are a part of the team.</li> <li> Responsible for the human resource management system(s) and provide staff and management with essential reporting information in order to help them in managing their associate resources.</li> <li> Recruit and retain top quality associates for each department, this includes recruiting nationally and in some cases at an executive level.</li> <li> Create or assist in the creation of compensation plans.</li> <li> Employee benefit administration consisting of Health, Dental, Vision, VSTD, VLTD and 401(k).</li> <li> Successful in reducing the health benefit expected increase from 46% to 5% during my first month with the organization.</li> </ul> </span> </div> </div> <div class=\"paragraph\" id=\"PARAGRAPH_666809422_2_433655049\" itemscope=\"\" itemtype=\"https://schema.org/Organization\" style=\"padding-top:0px;\"> <div class=\"singlecolumn\"> <span class=\"paddedline\"> <span class=\"jobtitle\" id=\"666809422JTIT2\"> Sr. HR Manager</span> <span> </span> <span class=\"datesWrapper\"> <span class=\"jobdates\" format=\"%b %Y\" id=\"666809422JSTD2\"> Jan 2013</span> <span>  to </span> <span class=\"jobdates\" format=\"%b %Y\" id=\"666809422EDDT2\"> Jan 2015</span> <br/> </span> </span> <span class=\"paddedline\" itemscope=\"\" itemtype=\"https://schema.org/postalAddress\"> <span class=\"companyname\" id=\"666809422COMP2\" itemprop=\"name\"> Company Name</span> <span>  － </span> <span class=\"joblocation jobcity\" id=\"666809422JCIT2\" itemprop=\"addressLocality\"> City</span> <span> , </span> <span class=\"joblocation jobstate\" id=\"666809422JSTA2\" itemprop=\"addressRegion\"> State</span> </span> <span class=\"jobline\" id=\"666809422JDES2\" itemprop=\"description\"> <ul> <li> As a leader within the HR and Operations team, I was instrumental in partnering with local leadership and Corporate HR to develop and implement HR policies, processes, technology and services that are aligned to support our company's strategic initiatives in order to have a successful start-up.</li> <li> Key Results: Coordinated efforts to recruit and hire over 220 full time hourly associates and 27 management level employees while converting agency staff to full time.</li> <li> Instrumental in managing and creating the set up of the HR business office, which included development of personnel files, new hire practices, payroll, and HR reporting.</li> <li> Manage, by providing direction and development to HR, and develop the HR delivery as business continued to grow.</li> <li> Strategic business partner to the Site Director, as well as other operations leaders, in support of start-up operations, day-to-day operations, and peak season planning, staffing and operations.</li> <li> Worked successfully with local temporary agencies in order to staff to our Peak volume, which consisted of over 1800 total associates delivering over 3 million units from Black Friday to Christmas.</li> <li> Influence HR strategy and execute tactical direction for the facility within the overall HR strategy.</li> <li> Ensure internal consistency of HR policies and procedures across multiple locations.</li> <li> Interact with the Corporate HR team for exempt staffing, compensation and benefits, and other functional groups in order to support Operations.</li> <li> Maintain knowledge of HR policies and procedures, laws and regulations, industry trends and developments to ensure accurate information is being communicated throughout the company.</li> <li> Develop a work environment that demonstrates Fanatics core values.</li> <li> Provide strategic direction on leadership development and workforce planning initiatives within the fulfillment center.</li> <li> Coach senior business leaders and front line supervisors on HR polices, procedures, and best practices in dealing with employee relation issues, such as, poor performance, attendance, and behavior and conduct issues.</li> <li> Championed a fun, friendly and approachable HR team of professionals.</li> <li> Ensure integrity, maintenance and confidentiality of all personnel records in accordance with policies and procedures and applicable Federal and State laws.</li> <li> Improve HR service delivery in line with overall business performance expectations.</li> <li> Look for ways to innovate systems for HR delivery (People, process &amp; technology).</li> <li> Manage the HR function with measurable objectives, and communicate the bottom line impact of HR delivery to the business.</li> </ul> </span> </div> </div> <div class=\"paragraph\" id=\"PARAGRAPH_666809422_3_433655050\" itemscope=\"\" itemtype=\"https://schema.org/Organization\" style=\"padding-top:0px;\"> <div class=\"singlecolumn\"> <span class=\"paddedline\"> <span class=\"jobtitle\" id=\"666809422JTIT3\"> HR Director</span> <span> </span> <span class=\"datesWrapper\"> <span class=\"jobdates\" format=\"%b %Y\" id=\"666809422JSTD3\"> Jan 2008</span> <span>  to </span> <span class=\"jobdates\" format=\"%b %Y\" id=\"666809422EDDT3\"> Jan 2012</span> <br/> </span> </span> <span class=\"paddedline\" itemscope=\"\" itemtype=\"https://schema.org/postalAddress\"> <span class=\"companyname\" id=\"666809422COMP3\" itemprop=\"name\"> Company Name</span> <span>  － </span> <span class=\"joblocation jobcity\" id=\"666809422JCIT3\" itemprop=\"addressLocality\"> City</span> <span> , </span> <span class=\"joblocation jobstate\" id=\"666809422JSTA3\" itemprop=\"addressRegion\"> State</span> </span> <span class=\"jobline\" id=\"666809422JDES3\" itemprop=\"description\"> <ul> <li> As a member of the executive team, I was directly and solely responsible for providing situation appropriate and policy compliant human resource support for 2 separate business units for a community based, non-profit, health care organization with approximately 184 employees.</li> <li> Key Results: Played a key role in ensuring the successful merge of five separate private physician practices into one Non-Profit organization.</li> <li> Structured and implemented programs and policies in the areas of compensation structures, benefits packages, incentive compensation plans and physician employment contracts.</li> <li> Fostered a teamwork/open-door environment conducive to positive dialogue across the organization with an 85% overall employee satisfaction rating.</li> <li> Responsible for maintaining staffing levels for all positions within the health center which consisted of full time, part time and on-call staff.</li> <li> Negotiated more than 100 salary offers at both the exempt and nonexempt level.</li> <li> Successful recruitment of Physicians, CEO, COO, CFO, CMO and various managers.</li> <li> Wrote employee manual covering issues including disciplinary procedures, code of conduct, FMLA, attendance policies and benefits information.</li> <li> Implemented employee satisfaction surveys and presented results to Board of directors.</li> <li> Introduced company's first formal performance review program.</li> <li> Developed job descriptions across all levels and categories.</li> <li> Shadowed\" and interviewed employees to construct an accurate picture of the duties and skills required for each position.</li> </ul> </span> </div> </div> <div class=\"paragraph\" id=\"PARAGRAPH_666809422_4_433655051\" itemscope=\"\" itemtype=\"https://schema.org/Organization\" style=\"padding-top:0px;\"> <div class=\"singlecolumn\"> <span class=\"paddedline\"> <span class=\"jobtitle\" id=\"666809422JTIT4\"> HR Representative</span> <span> </span> <span class=\"datesWrapper\"> <span class=\"jobdates\" format=\"%b %Y\" id=\"666809422JSTD4\"> Jan 2001</span> <span>  to </span> <span class=\"jobdates\" format=\"%b %Y\" id=\"666809422EDDT4\"> Jan 2007</span> <br/> </span> </span> <span class=\"paddedline\" itemscope=\"\" itemtype=\"https://schema.org/postalAddress\"> <span class=\"companyname\" id=\"666809422COMP4\" itemprop=\"name\"> Company Name</span> <span>  － </span> <span class=\"joblocation jobcity\" id=\"666809422JCIT4\" itemprop=\"addressLocality\"> City</span> <span> , </span> <span class=\"joblocation jobstate\" id=\"666809422JSTA4\" itemprop=\"addressRegion\"> State</span> </span> <span class=\"jobline\" id=\"666809422JDES4\" itemprop=\"description\"> <ul> <li> Nation's largest small-box discount retailer.</li> <li> Fulfilled a broad range of HR Generalist functions, including recruiting, administering benefits, overseeing disciplinary action and managing HR support staff.</li> <li> Key Results: Trained management team on interviewing techniques and best practices, conducted workshops and one-on-one coaching sessions that contributed to sound hiring decisions.</li> <li> Instrumental in the start-up of the new 1.2 million sq.</li> <li> ft.</li> <li> state of the art distribution center.</li> <li> Hiring over 400 plus employees within the first year that consisted of part time, full time and temporary staff.</li> <li> Overseen morale-boosting programs (including special events, annual employee picnic, attendance and safety banquets, etc.</li> <li> that increased employee satisfaction and productivity.</li> <li> Investigated all employee relation issues, such as sexual harassment, discrimination, and inappropriate conduct by either hourly employees and or management staff.</li> <li> Responsible for staffing all hourly positions, which consisted of maintaining 878 hourly employees among three shifts.</li> </ul> </span> </div> </div> </div> <div class=\"section\" id=\"SECTION_EDUC666809423\" style=\"padding-top:0px;\"> <div class=\"heading bottomborder\"> <div class=\"sectiontitle\" id=\"SECTNAME_EDUC666809423\"> Education</div> </div> <div class=\"paragraph firstparagraph\" id=\"PARAGRAPH_666809423_1_433655052\" itemscope=\"\" itemtype=\"https://schema.org/EducationalOrganization\" style=\"padding-top:0px;\"> <div class=\"singlecolumn\"> <span class=\"paddedline\" itemprop=\"description\"> <span class=\"degree\" id=\"666809423DGRE1\" itemprop=\"name\"> Bachelor of Business Administration</span> <span class=\"programline\" id=\"666809423STUY1\"> </span> </span> <span class=\"paddedline\"> <span class=\"companyname companyname_educ\" id=\"666809423SCHO1\" itemprop=\"name\"> MOUNT VERNON NAZARENE UNIVERSITY</span> <span>  － </span> <span class=\"joblocation jobcity\" id=\"666809423SCIT1\"> City</span> <span> , </span> <span class=\"joblocation jobstate\" id=\"666809423SSTA1\"> State</span> <span class=\"joblocation jobstate\" id=\"666809423SCNT1\"> </span> </span> <span class=\"field\" id=\"666809423FRFM1\"> </span> </div> </div> </div> <div class=\"section\" id=\"SECTION_AFIL666809424\" style=\"padding-top:0px;\"> <div class=\"heading bottomborder\"> <div class=\"sectiontitle\" id=\"SECTNAME_AFIL666809424\"> Professional Affiliations</div> </div> <div class=\"paragraph firstparagraph\" id=\"PARAGRAPH_666809424_1_433655053\" style=\"padding-top:0px;\"> <div class=\"field singlecolumn\" id=\"666809424FRFM1\"> Society for Human Resource Management (SHRM)\n*Muskingum Valley Human Resource Management Association</div> </div> </div> <div class=\"section\" id=\"SECTION_SKLL666809426\" style=\"padding-top:0px;\"> <div class=\"heading bottomborder\"> <div class=\"sectiontitle\" id=\"SECTNAME_SKLL666809426\"> Skills</div> </div> <div class=\"paragraph firstparagraph\" id=\"PARAGRAPH_666809426_1_433655055\" style=\"padding-top:0px;\"> <div class=\"field singlecolumn\" id=\"666809426FRFM1\"> ADA, ADP, art, agency, benefits, Benefits Administration, Coach, coaching, conflict resolution, continuous improvement, contracts, decision making, delivery, direction, Employee Relations, special events, financial, functional, Hiring, HRIS, human resource management, Human Resource, Human Resources, HR, human relations, Kronos, Lawson, leadership, leadership development, Law, legal compliance, Director, managing, management reporting, Mediation, Access, Excel, MS Office, office, Outlook, PowerPoint, Publisher, win, Word, negotiating, Negotiations, Organizational Development, organizational, payroll, Peak, Performance Management, personnel, Policies, problem solving, processes, Profit, implement programs, Project Management, quality, quantitative analysis, Recruitment, recruiting, reporting, safety, sound, staff development, staffing, strategy, Strategic, Structured, surveys, team- work, teamwork, Visio, Vision, workshops</div> </div> </div> </div>",
         "HR"
        ]
       ],
       "shape": {
        "columns": 4,
        "rows": 5
       }
      },
      "text/html": [
       "<div>\n",
       "<style scoped>\n",
       "    .dataframe tbody tr th:only-of-type {\n",
       "        vertical-align: middle;\n",
       "    }\n",
       "\n",
       "    .dataframe tbody tr th {\n",
       "        vertical-align: top;\n",
       "    }\n",
       "\n",
       "    .dataframe thead th {\n",
       "        text-align: right;\n",
       "    }\n",
       "</style>\n",
       "<table border=\"1\" class=\"dataframe\">\n",
       "  <thead>\n",
       "    <tr style=\"text-align: right;\">\n",
       "      <th></th>\n",
       "      <th>ID</th>\n",
       "      <th>Resume_str</th>\n",
       "      <th>Resume_html</th>\n",
       "      <th>Category</th>\n",
       "    </tr>\n",
       "  </thead>\n",
       "  <tbody>\n",
       "    <tr>\n",
       "      <th>0</th>\n",
       "      <td>16852973</td>\n",
       "      <td>HR ADMINISTRATOR/MARKETING ASSOCIATE\\...</td>\n",
       "      <td>&lt;div class=\"fontsize fontface vmargins hmargin...</td>\n",
       "      <td>HR</td>\n",
       "    </tr>\n",
       "    <tr>\n",
       "      <th>1</th>\n",
       "      <td>22323967</td>\n",
       "      <td>HR SPECIALIST, US HR OPERATIONS      ...</td>\n",
       "      <td>&lt;div class=\"fontsize fontface vmargins hmargin...</td>\n",
       "      <td>HR</td>\n",
       "    </tr>\n",
       "    <tr>\n",
       "      <th>2</th>\n",
       "      <td>33176873</td>\n",
       "      <td>HR DIRECTOR       Summary      Over 2...</td>\n",
       "      <td>&lt;div class=\"fontsize fontface vmargins hmargin...</td>\n",
       "      <td>HR</td>\n",
       "    </tr>\n",
       "    <tr>\n",
       "      <th>3</th>\n",
       "      <td>27018550</td>\n",
       "      <td>HR SPECIALIST       Summary    Dedica...</td>\n",
       "      <td>&lt;div class=\"fontsize fontface vmargins hmargin...</td>\n",
       "      <td>HR</td>\n",
       "    </tr>\n",
       "    <tr>\n",
       "      <th>4</th>\n",
       "      <td>17812897</td>\n",
       "      <td>HR MANAGER         Skill Highlights  ...</td>\n",
       "      <td>&lt;div class=\"fontsize fontface vmargins hmargin...</td>\n",
       "      <td>HR</td>\n",
       "    </tr>\n",
       "  </tbody>\n",
       "</table>\n",
       "</div>"
      ],
      "text/plain": [
       "         ID                                         Resume_str  \\\n",
       "0  16852973           HR ADMINISTRATOR/MARKETING ASSOCIATE\\...   \n",
       "1  22323967           HR SPECIALIST, US HR OPERATIONS      ...   \n",
       "2  33176873           HR DIRECTOR       Summary      Over 2...   \n",
       "3  27018550           HR SPECIALIST       Summary    Dedica...   \n",
       "4  17812897           HR MANAGER         Skill Highlights  ...   \n",
       "\n",
       "                                         Resume_html Category  \n",
       "0  <div class=\"fontsize fontface vmargins hmargin...       HR  \n",
       "1  <div class=\"fontsize fontface vmargins hmargin...       HR  \n",
       "2  <div class=\"fontsize fontface vmargins hmargin...       HR  \n",
       "3  <div class=\"fontsize fontface vmargins hmargin...       HR  \n",
       "4  <div class=\"fontsize fontface vmargins hmargin...       HR  "
      ]
     },
     "execution_count": 12,
     "metadata": {},
     "output_type": "execute_result"
    }
   ],
   "source": [
    "# Load resume data\n",
    "resume_df = pd.read_csv('Resume.csv')\n",
    "resume_df.head()"
   ]
  },
  {
   "cell_type": "code",
   "execution_count": 13,
   "id": "e32a81ee",
   "metadata": {},
   "outputs": [
    {
     "data": {
      "application/vnd.microsoft.datawrangler.viewer.v0+json": {
       "columns": [
        {
         "name": "index",
         "rawType": "int64",
         "type": "integer"
        },
        {
         "name": "Unnamed: 0",
         "rawType": "int64",
         "type": "integer"
        },
        {
         "name": "Category",
         "rawType": "object",
         "type": "string"
        },
        {
         "name": "Description",
         "rawType": "object",
         "type": "string"
        },
        {
         "name": "Benefits",
         "rawType": "object",
         "type": "string"
        },
        {
         "name": "Requirement",
         "rawType": "object",
         "type": "string"
        },
        {
         "name": "Requirements",
         "rawType": "object",
         "type": "unknown"
        }
       ],
       "conversionMethod": "pd.DataFrame",
       "ref": "9b1fa47d-43dd-443c-99f9-3799a80b9d16",
       "rows": [
        [
         "0",
         "0",
         "Business Analyst",
         "Description\nJob Title: Junior Business Analyst\nLocation: Home-based (This role will require regular UK travel and at times need you to stay away from home)\nStart Date: May (To be confirmed)\nMethods is a £100M+ IT Services Consultancy who has partnered with a range of central government departments and agencies to transform the way the public sector operates in the UK. Established over 30 years ago and UK-based, we apply our skills in transformation, delivery, and collaboration from across the Methods Group, to create end-to-end business and technical solutions that are people-centred, safe, and designed for the future.\nOur human touch sets us apart from other consultancies, system integrators and software houses - with people, technology, and data at the heart of who we are, we believe in creating value and sustainability through everything we do for our clients, staff, communities, and the planet.\nWe support our clients in the success of their projects while working collaboratively to share skill sets and solve problems. At Methods we have fun while working hard; we are not afraid of making mistakes and learning from them.\nPredominantly focused on the public-sector, Methods is now building a significant private sector client portfolio.\nMethods was acquired by the Alten Group in early 2022.\nAbout the role:\nThe Junior Business Analyst is an entry level role, focussed on rapidly developing the skills and behaviours needed to be successful as a consulting Business Analyst. Through a structured development programme, over the first six-months the role will be supported through the BCS Foundation Certification developing a baseline understanding of the core skills, tools and techniques. Alongside this there will be shadowing and opportunity to deliver small client assignments under supervision and supporting more senior Business Analysts in larger deliveries, to develop experience in the practical application of the core skills, tools and techniques. The post-holder will be expected to work across the Change & Innovation Portfolio with a clear progression pathway to becoming a SFIA3 Business Analyst. This will include responsibility for supporting clients to deliver change successfully by undertaking a variety of business analysis tasks working under supervision and in multi-disciplinary teams. These responsibilities include applying analytical and problem-solving tools to help assess situations and understand problems and elicit, analyse and validate business requirements and user stories, contributing to the successful delivery of client projects.\nSuccessful applicants will have an interest in the UK public services landscape and thirst for exploring different sectors. In addition to possessing good communication and engagement skills (written and verbal) they will have an interest in innovating with new techniques and technology to support the more efficient delivery of improved outcomes.\nThe role will be home based and will include some work on client sites. The Junior Business Analyst will initially focus on development of their career to be a Business Analyst, acquiring a detailed understanding of the wider Change and Innovation Portfolio offerings and develop a set of skills, competencies and knowledge to extend their contribution to other practices and their continued progression.\nWhat Methods offer is to you:\nProfessional development\n• A supported and structured Business Analysis development pathway for your early career\n• Funded BCS Foundation Certification\n• Lean Six-Sigma and Consultancy 101 training alongside LinkedIn Learning\n• Participate and contribute to Communities of Practice development\n• Maintain your own professional development plan\n• Identify and undertake relevant training\nWhat you will do:\n• Contribute to the successful delivery of projects through the application of learning and accessing of colleague knowledge and experience that adds value to our clients\n• Engage with clients to elicit information and analyse data sources to provide considered opinion\n• Support the analysis and understanding user and business needs, including where material is drawn from multiple sources\n• Support the mapping of processes and information flows into appropriate artefacts for communication with both stakeholders and the team\n• Translate user needs into system functionality requirements\n• Explore under direction, the internal and external situation and environment, eliciting and managing any non-functional requirement\n• Manage requirements through their life cycle, ensuring traceability and supporting prioritisation with stakeholders\n• Write clear and concise user stories with clear and testable acceptance criteria.\n• Support Methods colleagues and other resources as appropriate to achieve client outcomes, resolving issues and escalating where necessary\n• Manage mechanisms for knowledge transfer to client teams and foster collaboration across client and internal boundaries\n• Support the development of new products and services and evolve existing products and services in line with market knowledge and company capability\n• Support internal change projects by applying proportionate best practice approaches\n• Contribute to project-related internal case studies and lessons learnt and help maintain the portfolio and company knowledge base\n• Actively participate in relevant professional events to gain and share industry knowledge\n• Support other team members through knowledge sharing and buddying where appropriate\nAm I the right fit? We're looking for:\n• Resilience\n• Strong collaboration and team working\n• Commitment to learning and self-development\n• Good Communication skills\n• Genuine passion/commitment to improving public services\n• A determined and tenacious approach to work\n• A creative approach to problem solving\n• Good listening and comprehension\n• Great stakeholder management\nThe benefits of our BA academy\n• A supported and structured Business Analysis development pathway for your early career\n• Funded Business Analysis certifications\n• Autonomy to develop and grow your skills and experience\n• Be part of exciting project work that is making a difference in society\n• Strong, inspiring, and thought-provoking leadership\n• A supportive and collaborative environment",
         "Benefits\nMethods is passionate about its people; we want our colleagues to develop the things they are good at and enjoy.\nBy joining us you can expect:\n· Autonomy to develop and grow your skills and experience\n· Be part of exciting project work that is making a difference in society\n· Strong, inspiring, and thought-provoking leadership\n· A supportive and collaborative environment\nAs well as this we offer:\nDevelopment – access to LinkedIn Learning, a management development programme, and training\nWellness – 24/7 confidential employee assistance programme\nFlexible Working – including home working and part time\nSocial – office parties, breakfast Tuesdays, monthly pizza Thursdays, Thirsty Thursdays, and commitment to charitable causes\nTime Off – 25 days of annual leave a year, plus bank holidays, with the option to buy 10 extra days each year\nVolunteering – 2 paid days per year to volunteer in our local communities or within a charity organisation\nPension – Salary Exchange Scheme with 4% employer contribution and 5% employee contribution\nDiscretionary Company Bonus – based on company and individual performance\nLife Assurance – of 4 times base salary\nPrivate Medical Insurance – which is non-contributory (spouse and dependants included)\nWorldwide Travel Insurance – which is non-contributory (spouse and dependants included)\nEnhanced Maternity and Paternity Pay\nTravel – season ticket loan, cycle to work scheme\nFor a full list of benefits please visit our website (www.methods.co.uk/careers/benefits)",
         "Requirements\n• Confidence in communicating and engaging with different individuals and stakeholder groups\n• Good inter-personal skills, demonstrating the ability to relate to customers and other stakeholders in their own language\n• Ability to interpret and extract information from a variety of sources, and create well presented, accurate, concise documentation, demonstrating attention to detail\n• Excellent organisational/time management skills and the ability to work calmly and professionally at pace and under pressure\n• Understanding of the basic principles of programme, project management, business analysis and change methodologies\n• Ability to recognise team dynamics and how people work together\n• Ability to support an open and collaborative environment to work in, be flexible, adaptable\n• Aptitude for identifying innovative approaches to problem solving and/or devising inventive and creative solutions.\n• How to apply skills gained from existing qualifications to the consultancy environment\n• Ability to harvest, manage, analyse and manipulate data in a variety of formats\n• Ability to write clear, accessible and persuasive reports\n• Proficiency in the use of Microsoft Office suite\nDesirable skills and experience:\n• Knowledge / experience of the public sector\n• Knowledge experience of project environments\n• Knowledge / experience of how Businesses operate (academic or experience)",
         null
        ],
        [
         "1",
         "1",
         "Business Analyst",
         "Description\nThe Business Analyst (BA) will capture client requirements for configuration of our product, in accordance with the company vision, and ensure that implementation is in line with best practices.\nThey will strengthen stakeholders’ relationships by delivering our product to our customers whilst executing to the purple standard.\nWorking within a fast-growing team will offer several technical and professional challenges with rewarding outcomes.\n\nKey accountabilities\nBridging the gap between customer and product\nAssisting in the effective delivery of multiple projects by understanding the client’s requirements, systems and processes\nAssisting with the onboarding of partners to our platform, providing support for testing and ad hoc question throughout\nAssisting with the delivery of national brand campaigns\nAssisting with the ongoing client relationship to drive satisfaction\nCapturing, documenting and clearly articulating client requirements, designing the solution, documenting and obtaining sign off\nAttending client site to act as pre-sales when required\nSupporting the Eagle Eye PM to ensure that projects are delivered on time and to budget\nWriting and collating user stories and continuing to manage the user stories through to delivery\nSupporting the client by raising and triaging issues with the QA team during the user acceptance testing process\nEscalating critical issues to the PM\nParticipating in technical design reviews and workshops\nDeveloping positive and productive relationships internally with Delivery, Product and Technical Support, and externally with customers, external partners and service providers\nProviding support to the department during the onboarding of major new clients, product road map development, new product releases, service upgrades and changes driven by new and existing customer requirements\nDeveloping a strong technical understanding of our own and client’s systems",
         "Benefits\nA competitive base salary\nBonus scheme with potential to earn up to 10% of salary dependant on your own personal behaviours, achievement of goals and company revenue targets\nFlexibility to work from home or various office locations and flexible hours or job shares considered\nGenerous annual leave package including:\n25 days paid annual leave\n5 days paid sick leave which if unused gets added to your annual leave the next year\nContributory pension\nSupport in continuous learning and self-development\nSimplyhealth scheme including:\nHealth care cash back\n24 hour access to virtual doctors appointments\n24 hour employee assistance programme 24 hour employee assistance programme\nAccess to the paid Headspace app subscription\nMental Health First Aiders to support employee’s mental wellbeing\nEmployee Resource Groups focussed on underrepresented groups in Eagle Eye, including Purple Women\nCharity Committee committed to organising events throughout the year to raise money for those less privileged\nCycle to work salary sacrifice scheme (via CycleScheme)\nElectric vehicle salary sacrifice scheme (via Octopus)\nA friendly, fun, growing team of people who work hard but love to play hard too, with location specific Christmas parties and annual whole company get together hosted in the UK",
         "Requirements\nYou have…\nA methodical approach to documentation\nThe ability to manage multiple tasks and see them through to completion\nExceptional communication skills, both verbal & written\nThe ability to manage own time and prioritise accordingly to deliver for internal and external parties to tight deadlines\nExcellent problem-solving skills, and the ability to think on your feet to meet requirements under pressure\nKnowledge of API-driven and SaaS-based technology solutions (desirable)\nKnowledge of POS systems (desirable)\nBusiness related or any similar professional qualification / any software development qualification (desirable)\nYou are…\nAlways encouraging continuous improvement\nCommercially astute\nAble to work autonomously\nProactive\nInfluential\nAchievement driven\nAdaptable\nCustomer focussed\nRelentless in hunting out inefficiencies\nDecisive\nAn excellent relationship builder",
         null
        ],
        [
         "2",
         "2",
         "Business Analyst",
         "Description\nWe help our clients design and deliver digital, technology and organisational transformation - solving real problems for real people.\nThis is a fantastic opportunity to make a difference on a range of exciting and meaningful government projects that will transform public services and join the growing business analyst community within Farsight Consulting.\nWe primarily work in the public sector, supporting initiatives that improve society and the lives of citizens; with not-for-profit organisations, charities and social enterprises; and with some private-sector companies.\nWe are looking for practitioners interested in developing careers as business analysts. This will involve working in a digital team to define, improve and deliver innovative digital solutions.\nWhether you have just started building your career as a BA, or have a few years of experience in research or analysis in a different field, this role would be perfect for you.",
         "Benefits\nWe have 2 promotion windows open each year so you can progress through the company.\nMore about our company benefits\n29 days holiday and Bank Holidays off\nBlended working model that enables the team to work from home, client site and in the office.\nFlexible working around our core hours of 10am to 4pm.\nPension, we pay 5% into your pension and you pay 3%.\nDeath in service benefit of four times your salary.\nA discount on gym membership and access to the BUPA Employee Assistance Programme.\nEnhanced sick pay, maternity, paternity, and adoption pay.\nRegular socials, a Workspace office in central London and an open and supportive culture.\nHealthcare Plan - 'Smart Health' through AIG\nThis is a UK based role. We offer a Hybrid working model - happy to discuss flexibility/remote arrangements.\nFarsight Consulting is committed to providing equal opportunities and creating a diverse & inclusive place of work where everyone feels welcome.",
         "Requirements\nYou are open, curious, and excited about making a difference during this exciting period of growth. Some of the things we look for include.\nWorking understanding of the principles of Agile, the roles within an Agile team and the value a BA brings\nA business analyst who can work in a range of agile digital delivery life stages\nWork closely with stakeholders to identify goals, define areas to add value, develop roadmaps and prioritise features\nGather and interpret complex information from a range of sources to provide recommendations\nApplication of frameworks and different methodologies to understand, break down, and articulate the problem space to identify potential solutions\nUsing a hypothesis-driven approach to test ideas out, fail fast and iterate thinking\nDevelopment of process maps to support an understanding of the current process to inform solution thinking\nEliciting, defining and managing user stories, requirements and acceptance criteria on Agile projects\nInterpreting and discussing solution designs with Solution Architects, and in turn, effectively communicating their benefits and drawbacks to business\nAdvising clients on how to develop and report against KPIs for new digital developments and improvements to existing digital services.",
         null
        ],
        [
         "3",
         "3",
         "Business Analyst",
         "Description\nFounded in 2015 and rapidly expanding, Fresh Gravity (www.freshgravity.com) is an exciting business and technology consulting company that is at the cutting edge of digital transformation. We drive digital success for our clients by enabling them to adopt transformative technologies. We provide a range of services: from Data Management, Data Science & Analytics, to API Management/Integration and Artificial Intelligence.\nIn a short time, we have crafted an exceptional team who have delivered impactful projects for some of the largest corporations in the world. We are on a mission to solve the most complex business problems for our clients using the most exciting new technologies. And we are looking for top talent to join us in our quest.\nFresh Gravity’s team members are authorities in their field, but know how to have fun, too. We’re building an inspiring, open organization you’ll take pride in. We challenge ourselves to grow – every day. We create value for our clients and partners – every day. We promise rich opportunities for you to succeed, to shine, to exceed even your own expectations.\nWe are thoughtful. We are engaged. We are relentless. We are Fresh Gravity.\nFresh Gravity is an equal opportunity employer.\n\nWe are seeking a strong techno-functional business analyst who will be responsible for driving successful project outcomes for Fresh Gravity’s clients. The role entails delivery involvement of data management solution projects with key inputs on the solution options, implementation approaches, delivery planning and execution. The person will be responsible for assisting and developing proposals for such engagements as well as negotiating delivery related actions through the life of a project. In addition, the person will be responsible for working with other Fresh Gravity stakeholders to define and refine delivery methodology artifacts and approaches, design and implement data management project execution best practices, develop sales and marketing collateral as well as represent Fresh Gravity at client or other public events. Someone who is looking for a niche consulting firm with an excellent culture with the desire to grow as the company grows would make a great candidate.",
         "Benefits\nIn addition to a competitive package, we promise rich opportunities for you to succeed, to shine, to exceed even your own expectations. In keeping with Fresh Gravity’s challenger ethos, we have developed the 5Dimensions (5D) benefits program. This program recognizes the multiple dimensions within each of us and seek to provide opportunities for deep development across these dimensions. Enrich Myself; Enhance My Client; Build my Company, Nurture My Family; and Better Humanity.",
         "Requirements\nKey Responsibilities Include:\nParticipate in the full delivery lifecycle of strategy and implementation projects for our clients using agile and hybrid project management approaches.\nPlan workstreams, identify, report and manage/mitigate risks, manage resolution of outstanding issues and actions,\nParticipate in strategy/roadmap initiatives while aligning the strategy to the business objectives, including helping establish organization constructs, development methodologies and selection of technology components (e.g., API gateways, code repository tools, data quality tools, data management/governance strategy, etc.)\nPlan, lead and manage requirements definition and solution design working sessions in addition to documenting functional use cases and architectures, business requirements, and high level business solution approaches\nResearch market trends and technology articles, propose strategic direction ideas, best practices, gathering current state information through stakeholder interaction using interviews / workshops\nCommunicate business requirements to architects and developers, assist in conducting feasibility assessments and identify optimal approaches to technically achieve the business requirements (e.g., Assist Sr. Technical Architects and leads on a data platform implementation)\nDefine and influence direction of organization constructs and technology management methodology change with organizations (e.g., define data governance frameworks on a data governance strategy assessment project)\nOwn the delivery of demos to our clients of working software built to specification and soliciting feedback to ensure satisfaction of business requirements (e.g., demonstrate data stewardship functionality on an MDM project)\nVerify the development artifacts/software are built to specification through various levels of testing\nOther:\nAssist in responding to RFPs by participating in planning, scoping, solution definition and estimation\nManage client and vendor partner relationships and activities to ensure alignment of schedule, scope, and responsibilities\nSupport and contribute to an evolving project delivery methodology by designing and creating templates, accelerators and reusable artifacts.\nSkills and Qualification Requirements\nBachelors or Masters (preferred) degree in a technology or project management discipline\n6 to 8 years of business system analysis and functional architecture experience\nStrong knowledge of Master Data Management is required, and domain knowledge in Life Sciences and Healthcare is a plus\nShould have participated in at least 1-2 Master Data Management implementation projects\nKnowledge of cloud-based data ingestion and data warehouse tools is a strong plus\nSome experience with data modeling is expected.\n2+ years of experience working in a business context (technology consulting, systems integration, management consulting, working as an analyst “in industry,” etc.) – Big 5 Consulting or similar (e.g., Deloitte, Accenture, E&Y, KPMG, PwC, Slalom, etc.) background is highly desirable\nDemonstrated experience traversing from lower level details to executive level birds eye view on project progress, execution and deliverables\nRunning effective client meetings (setting context, establishing goals, capturing key decisions, managing scope changes, etc.)\nManaging scope and negotiating change requests\nStrong experience and familiarity with tools, templates and accelerators of different types pertaining to different stages of a project (e.g., project retrospective tools, Jira backlog boards, Quality Strategy templates, Functional design documents, etc.)\nExpert experience with tools like Jira and Confluence\nExceptional proficiency with project - and stakeholder-management theory and practices – demonstrated ability to proactively drive workstreams with minimal supervision, independently escalate and resolve issues, handle changes in technical direction, etc.\nCandidate must be local to Austin area.",
         null
        ],
        [
         "4",
         "4",
         "Business Analyst",
         "Description\nWe are seeking a skilled Business Analyst to join our team. As a Business Analyst at our fast-growing organization, you will play a pivotal role in our operations and R&D teams. You will excel in data analysis using tools like Excel, Sheets, and other relevant software. Your proficiency in project management and financial modeling will drive accurate forecasting and planning, aiding critical decision-making processes. Leveraging your experience, you will execute a diverse range of operational and analytics tasks. Your collaborative nature will shine as you work closely with cross-functional teams to drive innovation and operational excellence.\nResponsibilities:\nAnalyze key business metrics and devise improvement plans\nUtilize Excel, Sheets, and other tools for comprehensive data analysis\nApply financial modeling expertise for accurate forecasting and planning\nManage projects efficiently, ensuring timely delivery and successful execution\nCollaborate with operations and R&D teams to provide actionable insights",
         "Benefits\nFood Allowance\nGovernment Benefits\n13th Month pay\nWork Equipment\nNight Differential if applicable (10% of hourly rate)\n20 Leaves (after 6 months)\nHoliday pay (200% on Regular holidays; 130% on Special holidays)\nOvertime pay (max of 10.25 hrs/day)\nReferral bonus (P10,000 if referral passed and stayed with the company for 3 months)\nHMO (after 6 months)",
         "Requirements\nBachelor's Degree in management or other related fields\nProficiency in Excel / Sheets for data analysis\nStrong project management skills\nTraining in financial modeling\nExperience in forecasting, planning, and project management\nExcellent analytical and problem-solving abilities\nMust be willing to work US business hours\nFlexibility in coverage – being able to support a wide array of personalities and leaders\nNice-to-have:\nExperience working in major consulting/accounting firms, BPOs, and/or banks\nExperience in virtual assistance or remote work\nExperience in a startup environment, US-based company, or other similarly fast-paced, highly demanding, high volume, dynamic environment",
         null
        ]
       ],
       "shape": {
        "columns": 6,
        "rows": 5
       }
      },
      "text/html": [
       "<div>\n",
       "<style scoped>\n",
       "    .dataframe tbody tr th:only-of-type {\n",
       "        vertical-align: middle;\n",
       "    }\n",
       "\n",
       "    .dataframe tbody tr th {\n",
       "        vertical-align: top;\n",
       "    }\n",
       "\n",
       "    .dataframe thead th {\n",
       "        text-align: right;\n",
       "    }\n",
       "</style>\n",
       "<table border=\"1\" class=\"dataframe\">\n",
       "  <thead>\n",
       "    <tr style=\"text-align: right;\">\n",
       "      <th></th>\n",
       "      <th>Unnamed: 0</th>\n",
       "      <th>Category</th>\n",
       "      <th>Description</th>\n",
       "      <th>Benefits</th>\n",
       "      <th>Requirement</th>\n",
       "      <th>Requirements</th>\n",
       "    </tr>\n",
       "  </thead>\n",
       "  <tbody>\n",
       "    <tr>\n",
       "      <th>0</th>\n",
       "      <td>0</td>\n",
       "      <td>Business Analyst</td>\n",
       "      <td>Description\\nJob Title: Junior Business Analys...</td>\n",
       "      <td>Benefits\\nMethods is passionate about its peop...</td>\n",
       "      <td>Requirements\\n• Confidence in communicating an...</td>\n",
       "      <td>NaN</td>\n",
       "    </tr>\n",
       "    <tr>\n",
       "      <th>1</th>\n",
       "      <td>1</td>\n",
       "      <td>Business Analyst</td>\n",
       "      <td>Description\\nThe Business Analyst (BA) will ca...</td>\n",
       "      <td>Benefits\\nA competitive base salary\\nBonus sch...</td>\n",
       "      <td>Requirements\\nYou have…\\nA methodical approach...</td>\n",
       "      <td>NaN</td>\n",
       "    </tr>\n",
       "    <tr>\n",
       "      <th>2</th>\n",
       "      <td>2</td>\n",
       "      <td>Business Analyst</td>\n",
       "      <td>Description\\nWe help our clients design and de...</td>\n",
       "      <td>Benefits\\nWe have 2 promotion windows open eac...</td>\n",
       "      <td>Requirements\\nYou are open, curious, and excit...</td>\n",
       "      <td>NaN</td>\n",
       "    </tr>\n",
       "    <tr>\n",
       "      <th>3</th>\n",
       "      <td>3</td>\n",
       "      <td>Business Analyst</td>\n",
       "      <td>Description\\nFounded in 2015 and rapidly expan...</td>\n",
       "      <td>Benefits\\nIn addition to a competitive package...</td>\n",
       "      <td>Requirements\\nKey Responsibilities Include:\\nP...</td>\n",
       "      <td>NaN</td>\n",
       "    </tr>\n",
       "    <tr>\n",
       "      <th>4</th>\n",
       "      <td>4</td>\n",
       "      <td>Business Analyst</td>\n",
       "      <td>Description\\nWe are seeking a skilled Business...</td>\n",
       "      <td>Benefits\\nFood Allowance\\nGovernment Benefits\\...</td>\n",
       "      <td>Requirements\\nBachelor's Degree in management ...</td>\n",
       "      <td>NaN</td>\n",
       "    </tr>\n",
       "  </tbody>\n",
       "</table>\n",
       "</div>"
      ],
      "text/plain": [
       "   Unnamed: 0          Category  \\\n",
       "0           0  Business Analyst   \n",
       "1           1  Business Analyst   \n",
       "2           2  Business Analyst   \n",
       "3           3  Business Analyst   \n",
       "4           4  Business Analyst   \n",
       "\n",
       "                                         Description  \\\n",
       "0  Description\\nJob Title: Junior Business Analys...   \n",
       "1  Description\\nThe Business Analyst (BA) will ca...   \n",
       "2  Description\\nWe help our clients design and de...   \n",
       "3  Description\\nFounded in 2015 and rapidly expan...   \n",
       "4  Description\\nWe are seeking a skilled Business...   \n",
       "\n",
       "                                            Benefits  \\\n",
       "0  Benefits\\nMethods is passionate about its peop...   \n",
       "1  Benefits\\nA competitive base salary\\nBonus sch...   \n",
       "2  Benefits\\nWe have 2 promotion windows open eac...   \n",
       "3  Benefits\\nIn addition to a competitive package...   \n",
       "4  Benefits\\nFood Allowance\\nGovernment Benefits\\...   \n",
       "\n",
       "                                         Requirement Requirements  \n",
       "0  Requirements\\n• Confidence in communicating an...          NaN  \n",
       "1  Requirements\\nYou have…\\nA methodical approach...          NaN  \n",
       "2  Requirements\\nYou are open, curious, and excit...          NaN  \n",
       "3  Requirements\\nKey Responsibilities Include:\\nP...          NaN  \n",
       "4  Requirements\\nBachelor's Degree in management ...          NaN  "
      ]
     },
     "execution_count": 13,
     "metadata": {},
     "output_type": "execute_result"
    }
   ],
   "source": [
    "# Load JD data\n",
    "job_desc_df = pd.read_csv('job_description.csv')\n",
    "job_desc_df.head()"
   ]
  },
  {
   "cell_type": "markdown",
   "id": "0a036a77",
   "metadata": {},
   "source": [
    "## Data exploration and pre processing"
   ]
  },
  {
   "cell_type": "code",
   "execution_count": 14,
   "id": "562fbe03",
   "metadata": {},
   "outputs": [
    {
     "data": {
      "text/plain": [
       "array(['HR', 'DESIGNER', 'INFORMATION-TECHNOLOGY', 'TEACHER', 'ADVOCATE',\n",
       "       'BUSINESS-DEVELOPMENT', 'HEALTHCARE', 'FITNESS', 'AGRICULTURE',\n",
       "       'BPO', 'SALES', 'CONSULTANT', 'DIGITAL-MEDIA', 'AUTOMOBILE',\n",
       "       'CHEF', 'FINANCE', 'APPAREL', 'ENGINEERING', 'ACCOUNTANT',\n",
       "       'CONSTRUCTION', 'PUBLIC-RELATIONS', 'BANKING', 'ARTS', 'AVIATION'],\n",
       "      dtype=object)"
      ]
     },
     "execution_count": 14,
     "metadata": {},
     "output_type": "execute_result"
    }
   ],
   "source": [
    "# Check for unique values in the 'category' column\n",
    "resume_df['Category'].unique()"
   ]
  },
  {
   "cell_type": "code",
   "execution_count": 15,
   "id": "d090fec5",
   "metadata": {},
   "outputs": [
    {
     "data": {
      "text/plain": [
       "array(['Business Analyst', 'Cloud', 'Data Scientist', 'HR',\n",
       "       'Software Developer', 'UI/UX'], dtype=object)"
      ]
     },
     "execution_count": 15,
     "metadata": {},
     "output_type": "execute_result"
    }
   ],
   "source": [
    "job_desc_df['Category'].unique()"
   ]
  },
  {
   "cell_type": "code",
   "execution_count": 16,
   "id": "e029370f",
   "metadata": {},
   "outputs": [
    {
     "name": "stderr",
     "output_type": "stream",
     "text": [
      "C:\\Users\\Esther\\AppData\\Local\\Temp\\ipykernel_5880\\3323717673.py:2: FutureWarning: A value is trying to be set on a copy of a DataFrame or Series through chained assignment using an inplace method.\n",
      "The behavior will change in pandas 3.0. This inplace method will never work because the intermediate object on which we are setting values always behaves as a copy.\n",
      "\n",
      "For example, when doing 'df[col].method(value, inplace=True)', try using 'df.method({col: value}, inplace=True)' or df[col] = df[col].method(value) instead, to perform the operation inplace on the original object.\n",
      "\n",
      "\n",
      "  resume_df['Category'].replace({'INFORMATION-TECHNOLOGY': 'IT'}, inplace=True)\n"
     ]
    }
   ],
   "source": [
    "#replace the column with IT\n",
    "resume_df['Category'].replace({'INFORMATION-TECHNOLOGY': 'IT'}, inplace=True)"
   ]
  },
  {
   "cell_type": "code",
   "execution_count": 18,
   "id": "05deebd1",
   "metadata": {},
   "outputs": [
    {
     "name": "stdout",
     "output_type": "stream",
     "text": [
      "Found 120 HR resumes\n",
      "Found 110 IT resumes\n"
     ]
    }
   ],
   "source": [
    "# Filter the data to include the HR and IT categories only\n",
    "IT_resume = resume_df[resume_df['Category'] == 'HR']\n",
    "HR_resume = resume_df[resume_df['Category'] == 'IT']\n",
    "\n",
    "# Print the length of the HR and IT jobs\n",
    "print(f\"Found {len(HR_resume)} HR resumes\")\n",
    "print(f\"Found {len(IT_resume)} IT resumes\")"
   ]
  },
  {
   "cell_type": "code",
   "execution_count": null,
   "id": "0313566a",
   "metadata": {},
   "outputs": [
    {
     "name": "stderr",
     "output_type": "stream",
     "text": [
      "C:\\Users\\Esther\\AppData\\Local\\Temp\\ipykernel_5880\\3818023644.py:2: FutureWarning: A value is trying to be set on a copy of a DataFrame or Series through chained assignment using an inplace method.\n",
      "The behavior will change in pandas 3.0. This inplace method will never work because the intermediate object on which we are setting values always behaves as a copy.\n",
      "\n",
      "For example, when doing 'df[col].method(value, inplace=True)', try using 'df.method({col: value}, inplace=True)' or df[col] = df[col].method(value) instead, to perform the operation inplace on the original object.\n",
      "\n",
      "\n",
      "  job_desc_df['Category'].replace({'Cloud': 'IT', 'Data Scientist': 'IT', 'Software Developer': 'IT','UI/UX': 'IT'}, inplace=True)\n"
     ]
    }
   ],
   "source": [
    "# Replace the Category column values with IT in the job description dataframe\n",
    "job_desc_df['Category'].replace({'Cloud': 'IT', 'Data Scientist': 'IT', 'Software Developer': 'IT','UI/UX': 'IT'}, inplace=True)"
   ]
  },
  {
   "cell_type": "code",
   "execution_count": 20,
   "id": "0f8b6628",
   "metadata": {},
   "outputs": [],
   "source": [
    "# Merge the requirement and requirements columns into a single column\n",
    "job_desc_df['All_Requirements'] = job_desc_df['Requirement'].fillna('') + ' ' + job_desc_df['Requirements'].fillna('')\n",
    "\n",
    "# Drop the original columns\n",
    "job_desc_df.drop(columns=['Requirement', 'Requirements'], inplace=True)"
   ]
  },
  {
   "cell_type": "code",
   "execution_count": 22,
   "id": "949990f7",
   "metadata": {},
   "outputs": [
    {
     "data": {
      "application/vnd.microsoft.datawrangler.viewer.v0+json": {
       "columns": [
        {
         "name": "index",
         "rawType": "int64",
         "type": "integer"
        },
        {
         "name": "Category",
         "rawType": "object",
         "type": "string"
        },
        {
         "name": "job_txt",
         "rawType": "object",
         "type": "string"
        }
       ],
       "conversionMethod": "pd.DataFrame",
       "ref": "e0d52da0-4d79-4889-a31d-907cf137fc16",
       "rows": [
        [
         "0",
         "Business Analyst",
         "Description\nJob Title: Junior Business Analyst\nLocation: Home-based (This role will require regular UK travel and at times need you to stay away from home)\nStart Date: May (To be confirmed)\nMethods is a £100M+ IT Services Consultancy who has partnered with a range of central government departments and agencies to transform the way the public sector operates in the UK. Established over 30 years ago and UK-based, we apply our skills in transformation, delivery, and collaboration from across the Methods Group, to create end-to-end business and technical solutions that are people-centred, safe, and designed for the future.\nOur human touch sets us apart from other consultancies, system integrators and software houses - with people, technology, and data at the heart of who we are, we believe in creating value and sustainability through everything we do for our clients, staff, communities, and the planet.\nWe support our clients in the success of their projects while working collaboratively to share skill sets and solve problems. At Methods we have fun while working hard; we are not afraid of making mistakes and learning from them.\nPredominantly focused on the public-sector, Methods is now building a significant private sector client portfolio.\nMethods was acquired by the Alten Group in early 2022.\nAbout the role:\nThe Junior Business Analyst is an entry level role, focussed on rapidly developing the skills and behaviours needed to be successful as a consulting Business Analyst. Through a structured development programme, over the first six-months the role will be supported through the BCS Foundation Certification developing a baseline understanding of the core skills, tools and techniques. Alongside this there will be shadowing and opportunity to deliver small client assignments under supervision and supporting more senior Business Analysts in larger deliveries, to develop experience in the practical application of the core skills, tools and techniques. The post-holder will be expected to work across the Change & Innovation Portfolio with a clear progression pathway to becoming a SFIA3 Business Analyst. This will include responsibility for supporting clients to deliver change successfully by undertaking a variety of business analysis tasks working under supervision and in multi-disciplinary teams. These responsibilities include applying analytical and problem-solving tools to help assess situations and understand problems and elicit, analyse and validate business requirements and user stories, contributing to the successful delivery of client projects.\nSuccessful applicants will have an interest in the UK public services landscape and thirst for exploring different sectors. In addition to possessing good communication and engagement skills (written and verbal) they will have an interest in innovating with new techniques and technology to support the more efficient delivery of improved outcomes.\nThe role will be home based and will include some work on client sites. The Junior Business Analyst will initially focus on development of their career to be a Business Analyst, acquiring a detailed understanding of the wider Change and Innovation Portfolio offerings and develop a set of skills, competencies and knowledge to extend their contribution to other practices and their continued progression.\nWhat Methods offer is to you:\nProfessional development\n• A supported and structured Business Analysis development pathway for your early career\n• Funded BCS Foundation Certification\n• Lean Six-Sigma and Consultancy 101 training alongside LinkedIn Learning\n• Participate and contribute to Communities of Practice development\n• Maintain your own professional development plan\n• Identify and undertake relevant training\nWhat you will do:\n• Contribute to the successful delivery of projects through the application of learning and accessing of colleague knowledge and experience that adds value to our clients\n• Engage with clients to elicit information and analyse data sources to provide considered opinion\n• Support the analysis and understanding user and business needs, including where material is drawn from multiple sources\n• Support the mapping of processes and information flows into appropriate artefacts for communication with both stakeholders and the team\n• Translate user needs into system functionality requirements\n• Explore under direction, the internal and external situation and environment, eliciting and managing any non-functional requirement\n• Manage requirements through their life cycle, ensuring traceability and supporting prioritisation with stakeholders\n• Write clear and concise user stories with clear and testable acceptance criteria.\n• Support Methods colleagues and other resources as appropriate to achieve client outcomes, resolving issues and escalating where necessary\n• Manage mechanisms for knowledge transfer to client teams and foster collaboration across client and internal boundaries\n• Support the development of new products and services and evolve existing products and services in line with market knowledge and company capability\n• Support internal change projects by applying proportionate best practice approaches\n• Contribute to project-related internal case studies and lessons learnt and help maintain the portfolio and company knowledge base\n• Actively participate in relevant professional events to gain and share industry knowledge\n• Support other team members through knowledge sharing and buddying where appropriate\nAm I the right fit? We're looking for:\n• Resilience\n• Strong collaboration and team working\n• Commitment to learning and self-development\n• Good Communication skills\n• Genuine passion/commitment to improving public services\n• A determined and tenacious approach to work\n• A creative approach to problem solving\n• Good listening and comprehension\n• Great stakeholder management\nThe benefits of our BA academy\n• A supported and structured Business Analysis development pathway for your early career\n• Funded Business Analysis certifications\n• Autonomy to develop and grow your skills and experience\n• Be part of exciting project work that is making a difference in society\n• Strong, inspiring, and thought-provoking leadership\n• A supportive and collaborative environment Requirements\n• Confidence in communicating and engaging with different individuals and stakeholder groups\n• Good inter-personal skills, demonstrating the ability to relate to customers and other stakeholders in their own language\n• Ability to interpret and extract information from a variety of sources, and create well presented, accurate, concise documentation, demonstrating attention to detail\n• Excellent organisational/time management skills and the ability to work calmly and professionally at pace and under pressure\n• Understanding of the basic principles of programme, project management, business analysis and change methodologies\n• Ability to recognise team dynamics and how people work together\n• Ability to support an open and collaborative environment to work in, be flexible, adaptable\n• Aptitude for identifying innovative approaches to problem solving and/or devising inventive and creative solutions.\n• How to apply skills gained from existing qualifications to the consultancy environment\n• Ability to harvest, manage, analyse and manipulate data in a variety of formats\n• Ability to write clear, accessible and persuasive reports\n• Proficiency in the use of Microsoft Office suite\nDesirable skills and experience:\n• Knowledge / experience of the public sector\n• Knowledge experience of project environments\n• Knowledge / experience of how Businesses operate (academic or experience) "
        ],
        [
         "1",
         "Business Analyst",
         "Description\nThe Business Analyst (BA) will capture client requirements for configuration of our product, in accordance with the company vision, and ensure that implementation is in line with best practices.\nThey will strengthen stakeholders’ relationships by delivering our product to our customers whilst executing to the purple standard.\nWorking within a fast-growing team will offer several technical and professional challenges with rewarding outcomes.\n\nKey accountabilities\nBridging the gap between customer and product\nAssisting in the effective delivery of multiple projects by understanding the client’s requirements, systems and processes\nAssisting with the onboarding of partners to our platform, providing support for testing and ad hoc question throughout\nAssisting with the delivery of national brand campaigns\nAssisting with the ongoing client relationship to drive satisfaction\nCapturing, documenting and clearly articulating client requirements, designing the solution, documenting and obtaining sign off\nAttending client site to act as pre-sales when required\nSupporting the Eagle Eye PM to ensure that projects are delivered on time and to budget\nWriting and collating user stories and continuing to manage the user stories through to delivery\nSupporting the client by raising and triaging issues with the QA team during the user acceptance testing process\nEscalating critical issues to the PM\nParticipating in technical design reviews and workshops\nDeveloping positive and productive relationships internally with Delivery, Product and Technical Support, and externally with customers, external partners and service providers\nProviding support to the department during the onboarding of major new clients, product road map development, new product releases, service upgrades and changes driven by new and existing customer requirements\nDeveloping a strong technical understanding of our own and client’s systems Requirements\nYou have…\nA methodical approach to documentation\nThe ability to manage multiple tasks and see them through to completion\nExceptional communication skills, both verbal & written\nThe ability to manage own time and prioritise accordingly to deliver for internal and external parties to tight deadlines\nExcellent problem-solving skills, and the ability to think on your feet to meet requirements under pressure\nKnowledge of API-driven and SaaS-based technology solutions (desirable)\nKnowledge of POS systems (desirable)\nBusiness related or any similar professional qualification / any software development qualification (desirable)\nYou are…\nAlways encouraging continuous improvement\nCommercially astute\nAble to work autonomously\nProactive\nInfluential\nAchievement driven\nAdaptable\nCustomer focussed\nRelentless in hunting out inefficiencies\nDecisive\nAn excellent relationship builder "
        ],
        [
         "2",
         "Business Analyst",
         "Description\nWe help our clients design and deliver digital, technology and organisational transformation - solving real problems for real people.\nThis is a fantastic opportunity to make a difference on a range of exciting and meaningful government projects that will transform public services and join the growing business analyst community within Farsight Consulting.\nWe primarily work in the public sector, supporting initiatives that improve society and the lives of citizens; with not-for-profit organisations, charities and social enterprises; and with some private-sector companies.\nWe are looking for practitioners interested in developing careers as business analysts. This will involve working in a digital team to define, improve and deliver innovative digital solutions.\nWhether you have just started building your career as a BA, or have a few years of experience in research or analysis in a different field, this role would be perfect for you. Requirements\nYou are open, curious, and excited about making a difference during this exciting period of growth. Some of the things we look for include.\nWorking understanding of the principles of Agile, the roles within an Agile team and the value a BA brings\nA business analyst who can work in a range of agile digital delivery life stages\nWork closely with stakeholders to identify goals, define areas to add value, develop roadmaps and prioritise features\nGather and interpret complex information from a range of sources to provide recommendations\nApplication of frameworks and different methodologies to understand, break down, and articulate the problem space to identify potential solutions\nUsing a hypothesis-driven approach to test ideas out, fail fast and iterate thinking\nDevelopment of process maps to support an understanding of the current process to inform solution thinking\nEliciting, defining and managing user stories, requirements and acceptance criteria on Agile projects\nInterpreting and discussing solution designs with Solution Architects, and in turn, effectively communicating their benefits and drawbacks to business\nAdvising clients on how to develop and report against KPIs for new digital developments and improvements to existing digital services. "
        ],
        [
         "3",
         "Business Analyst",
         "Description\nFounded in 2015 and rapidly expanding, Fresh Gravity (www.freshgravity.com) is an exciting business and technology consulting company that is at the cutting edge of digital transformation. We drive digital success for our clients by enabling them to adopt transformative technologies. We provide a range of services: from Data Management, Data Science & Analytics, to API Management/Integration and Artificial Intelligence.\nIn a short time, we have crafted an exceptional team who have delivered impactful projects for some of the largest corporations in the world. We are on a mission to solve the most complex business problems for our clients using the most exciting new technologies. And we are looking for top talent to join us in our quest.\nFresh Gravity’s team members are authorities in their field, but know how to have fun, too. We’re building an inspiring, open organization you’ll take pride in. We challenge ourselves to grow – every day. We create value for our clients and partners – every day. We promise rich opportunities for you to succeed, to shine, to exceed even your own expectations.\nWe are thoughtful. We are engaged. We are relentless. We are Fresh Gravity.\nFresh Gravity is an equal opportunity employer.\n\nWe are seeking a strong techno-functional business analyst who will be responsible for driving successful project outcomes for Fresh Gravity’s clients. The role entails delivery involvement of data management solution projects with key inputs on the solution options, implementation approaches, delivery planning and execution. The person will be responsible for assisting and developing proposals for such engagements as well as negotiating delivery related actions through the life of a project. In addition, the person will be responsible for working with other Fresh Gravity stakeholders to define and refine delivery methodology artifacts and approaches, design and implement data management project execution best practices, develop sales and marketing collateral as well as represent Fresh Gravity at client or other public events. Someone who is looking for a niche consulting firm with an excellent culture with the desire to grow as the company grows would make a great candidate. Requirements\nKey Responsibilities Include:\nParticipate in the full delivery lifecycle of strategy and implementation projects for our clients using agile and hybrid project management approaches.\nPlan workstreams, identify, report and manage/mitigate risks, manage resolution of outstanding issues and actions,\nParticipate in strategy/roadmap initiatives while aligning the strategy to the business objectives, including helping establish organization constructs, development methodologies and selection of technology components (e.g., API gateways, code repository tools, data quality tools, data management/governance strategy, etc.)\nPlan, lead and manage requirements definition and solution design working sessions in addition to documenting functional use cases and architectures, business requirements, and high level business solution approaches\nResearch market trends and technology articles, propose strategic direction ideas, best practices, gathering current state information through stakeholder interaction using interviews / workshops\nCommunicate business requirements to architects and developers, assist in conducting feasibility assessments and identify optimal approaches to technically achieve the business requirements (e.g., Assist Sr. Technical Architects and leads on a data platform implementation)\nDefine and influence direction of organization constructs and technology management methodology change with organizations (e.g., define data governance frameworks on a data governance strategy assessment project)\nOwn the delivery of demos to our clients of working software built to specification and soliciting feedback to ensure satisfaction of business requirements (e.g., demonstrate data stewardship functionality on an MDM project)\nVerify the development artifacts/software are built to specification through various levels of testing\nOther:\nAssist in responding to RFPs by participating in planning, scoping, solution definition and estimation\nManage client and vendor partner relationships and activities to ensure alignment of schedule, scope, and responsibilities\nSupport and contribute to an evolving project delivery methodology by designing and creating templates, accelerators and reusable artifacts.\nSkills and Qualification Requirements\nBachelors or Masters (preferred) degree in a technology or project management discipline\n6 to 8 years of business system analysis and functional architecture experience\nStrong knowledge of Master Data Management is required, and domain knowledge in Life Sciences and Healthcare is a plus\nShould have participated in at least 1-2 Master Data Management implementation projects\nKnowledge of cloud-based data ingestion and data warehouse tools is a strong plus\nSome experience with data modeling is expected.\n2+ years of experience working in a business context (technology consulting, systems integration, management consulting, working as an analyst “in industry,” etc.) – Big 5 Consulting or similar (e.g., Deloitte, Accenture, E&Y, KPMG, PwC, Slalom, etc.) background is highly desirable\nDemonstrated experience traversing from lower level details to executive level birds eye view on project progress, execution and deliverables\nRunning effective client meetings (setting context, establishing goals, capturing key decisions, managing scope changes, etc.)\nManaging scope and negotiating change requests\nStrong experience and familiarity with tools, templates and accelerators of different types pertaining to different stages of a project (e.g., project retrospective tools, Jira backlog boards, Quality Strategy templates, Functional design documents, etc.)\nExpert experience with tools like Jira and Confluence\nExceptional proficiency with project - and stakeholder-management theory and practices – demonstrated ability to proactively drive workstreams with minimal supervision, independently escalate and resolve issues, handle changes in technical direction, etc.\nCandidate must be local to Austin area. "
        ],
        [
         "4",
         "Business Analyst",
         "Description\nWe are seeking a skilled Business Analyst to join our team. As a Business Analyst at our fast-growing organization, you will play a pivotal role in our operations and R&D teams. You will excel in data analysis using tools like Excel, Sheets, and other relevant software. Your proficiency in project management and financial modeling will drive accurate forecasting and planning, aiding critical decision-making processes. Leveraging your experience, you will execute a diverse range of operational and analytics tasks. Your collaborative nature will shine as you work closely with cross-functional teams to drive innovation and operational excellence.\nResponsibilities:\nAnalyze key business metrics and devise improvement plans\nUtilize Excel, Sheets, and other tools for comprehensive data analysis\nApply financial modeling expertise for accurate forecasting and planning\nManage projects efficiently, ensuring timely delivery and successful execution\nCollaborate with operations and R&D teams to provide actionable insights Requirements\nBachelor's Degree in management or other related fields\nProficiency in Excel / Sheets for data analysis\nStrong project management skills\nTraining in financial modeling\nExperience in forecasting, planning, and project management\nExcellent analytical and problem-solving abilities\nMust be willing to work US business hours\nFlexibility in coverage – being able to support a wide array of personalities and leaders\nNice-to-have:\nExperience working in major consulting/accounting firms, BPOs, and/or banks\nExperience in virtual assistance or remote work\nExperience in a startup environment, US-based company, or other similarly fast-paced, highly demanding, high volume, dynamic environment "
        ]
       ],
       "shape": {
        "columns": 2,
        "rows": 5
       }
      },
      "text/html": [
       "<div>\n",
       "<style scoped>\n",
       "    .dataframe tbody tr th:only-of-type {\n",
       "        vertical-align: middle;\n",
       "    }\n",
       "\n",
       "    .dataframe tbody tr th {\n",
       "        vertical-align: top;\n",
       "    }\n",
       "\n",
       "    .dataframe thead th {\n",
       "        text-align: right;\n",
       "    }\n",
       "</style>\n",
       "<table border=\"1\" class=\"dataframe\">\n",
       "  <thead>\n",
       "    <tr style=\"text-align: right;\">\n",
       "      <th></th>\n",
       "      <th>Category</th>\n",
       "      <th>job_txt</th>\n",
       "    </tr>\n",
       "  </thead>\n",
       "  <tbody>\n",
       "    <tr>\n",
       "      <th>0</th>\n",
       "      <td>Business Analyst</td>\n",
       "      <td>Description\\nJob Title: Junior Business Analys...</td>\n",
       "    </tr>\n",
       "    <tr>\n",
       "      <th>1</th>\n",
       "      <td>Business Analyst</td>\n",
       "      <td>Description\\nThe Business Analyst (BA) will ca...</td>\n",
       "    </tr>\n",
       "    <tr>\n",
       "      <th>2</th>\n",
       "      <td>Business Analyst</td>\n",
       "      <td>Description\\nWe help our clients design and de...</td>\n",
       "    </tr>\n",
       "    <tr>\n",
       "      <th>3</th>\n",
       "      <td>Business Analyst</td>\n",
       "      <td>Description\\nFounded in 2015 and rapidly expan...</td>\n",
       "    </tr>\n",
       "    <tr>\n",
       "      <th>4</th>\n",
       "      <td>Business Analyst</td>\n",
       "      <td>Description\\nWe are seeking a skilled Business...</td>\n",
       "    </tr>\n",
       "  </tbody>\n",
       "</table>\n",
       "</div>"
      ],
      "text/plain": [
       "           Category                                            job_txt\n",
       "0  Business Analyst  Description\\nJob Title: Junior Business Analys...\n",
       "1  Business Analyst  Description\\nThe Business Analyst (BA) will ca...\n",
       "2  Business Analyst  Description\\nWe help our clients design and de...\n",
       "3  Business Analyst  Description\\nFounded in 2015 and rapidly expan...\n",
       "4  Business Analyst  Description\\nWe are seeking a skilled Business..."
      ]
     },
     "execution_count": 22,
     "metadata": {},
     "output_type": "execute_result"
    }
   ],
   "source": [
    "# Combine all relevant job description fields into one string\n",
    "job_desc_df['job_txt'] = (job_desc_df[['Description', 'All_Requirements']].fillna('').agg(' '.join, axis=1))\n",
    "\n",
    "# Drop unnecessary columns for clarity\n",
    "job_desc_df = job_desc_df[['Category', 'job_txt']]\n",
    "\n",
    "# Display preview\n",
    "job_desc_df.head()"
   ]
  },
  {
   "cell_type": "code",
   "execution_count": 23,
   "id": "084bd341",
   "metadata": {},
   "outputs": [
    {
     "name": "stdout",
     "output_type": "stream",
     "text": [
      "Found 32 HR job descriptions\n",
      "Found 239 IT job descriptions\n"
     ]
    }
   ],
   "source": [
    "# Filter HR and IT job descriptions\n",
    "HR_jobs = job_desc_df[job_desc_df['Category'] == 'HR']\n",
    "IT_jobs = job_desc_df[job_desc_df['Category'] == 'IT']\n",
    "\n",
    "\n",
    "# Print the length of the HR and IT jobs\n",
    "print(f\"Found {len(HR_jobs)} HR job descriptions\")\n",
    "print(f\"Found {len(IT_jobs)} IT job descriptions\")"
   ]
  },
  {
   "cell_type": "code",
   "execution_count": 27,
   "id": "434d022a",
   "metadata": {},
   "outputs": [],
   "source": [
    "# combine the filtered resume dataframes into one\n",
    "filtered_resume = pd.concat([HR_resume, IT_resume], ignore_index=True)\n",
    "# combine the filtered job description dataframes into one\n",
    "filtered_job_desc = pd.concat([HR_jobs, IT_jobs], ignore_index=True)\n"
   ]
  },
  {
   "cell_type": "markdown",
   "id": "92d38862",
   "metadata": {},
   "source": [
    "## Extract information from the filtered resume dataset"
   ]
  },
  {
   "cell_type": "code",
   "execution_count": null,
   "id": "0e195944",
   "metadata": {},
   "outputs": [
    {
     "data": {
      "application/vnd.microsoft.datawrangler.viewer.v0+json": {
       "columns": [
        {
         "name": "index",
         "rawType": "int64",
         "type": "integer"
        },
        {
         "name": "ID",
         "rawType": "int64",
         "type": "integer"
        },
        {
         "name": "Education",
         "rawType": "object",
         "type": "string"
        },
        {
         "name": "Skills",
         "rawType": "object",
         "type": "string"
        },
        {
         "name": "Experience (Years)",
         "rawType": "int64",
         "type": "integer"
        },
        {
         "name": "Certifications",
         "rawType": "object",
         "type": "string"
        }
       ],
       "conversionMethod": "pd.DataFrame",
       "ref": "3b280dd1-913a-4780-821c-f9569ae52d97",
       "rows": [
        [
         "0",
         "36856210",
         "",
         "compliance, excel, hr, html",
         "37",
         ""
        ],
        [
         "1",
         "21780877",
         "",
         "hr, access, project management",
         "0",
         ""
        ],
        [
         "2",
         "33241454",
         "",
         "hr, project management, sharepoint, access, excel",
         "5",
         "Education      Certification | Certificate of Achievement | Graduate Certificate, Information Technology | Microsoft Certification | State               Certificate"
        ],
        [
         "3",
         "25990239",
         "",
         "hr, project management, outlook, powerpoint, html, excel, word, data analysis",
         "0",
         ""
        ],
        [
         "4",
         "16899268",
         "",
         "data analysis, hr, project management",
         "0",
         "Certified Financial Planner | State    Marketing        Microsoft Front Page Certified"
        ]
       ],
       "shape": {
        "columns": 5,
        "rows": 5
       }
      },
      "text/html": [
       "<div>\n",
       "<style scoped>\n",
       "    .dataframe tbody tr th:only-of-type {\n",
       "        vertical-align: middle;\n",
       "    }\n",
       "\n",
       "    .dataframe tbody tr th {\n",
       "        vertical-align: top;\n",
       "    }\n",
       "\n",
       "    .dataframe thead th {\n",
       "        text-align: right;\n",
       "    }\n",
       "</style>\n",
       "<table border=\"1\" class=\"dataframe\">\n",
       "  <thead>\n",
       "    <tr style=\"text-align: right;\">\n",
       "      <th></th>\n",
       "      <th>ID</th>\n",
       "      <th>Education</th>\n",
       "      <th>Skills</th>\n",
       "      <th>Experience (Years)</th>\n",
       "      <th>Certifications</th>\n",
       "    </tr>\n",
       "  </thead>\n",
       "  <tbody>\n",
       "    <tr>\n",
       "      <th>0</th>\n",
       "      <td>36856210</td>\n",
       "      <td></td>\n",
       "      <td>compliance, excel, hr, html</td>\n",
       "      <td>37</td>\n",
       "      <td></td>\n",
       "    </tr>\n",
       "    <tr>\n",
       "      <th>1</th>\n",
       "      <td>21780877</td>\n",
       "      <td></td>\n",
       "      <td>hr, access, project management</td>\n",
       "      <td>0</td>\n",
       "      <td></td>\n",
       "    </tr>\n",
       "    <tr>\n",
       "      <th>2</th>\n",
       "      <td>33241454</td>\n",
       "      <td></td>\n",
       "      <td>hr, project management, sharepoint, access, excel</td>\n",
       "      <td>5</td>\n",
       "      <td>Education      Certification | Certificate of ...</td>\n",
       "    </tr>\n",
       "    <tr>\n",
       "      <th>3</th>\n",
       "      <td>25990239</td>\n",
       "      <td></td>\n",
       "      <td>hr, project management, outlook, powerpoint, h...</td>\n",
       "      <td>0</td>\n",
       "      <td></td>\n",
       "    </tr>\n",
       "    <tr>\n",
       "      <th>4</th>\n",
       "      <td>16899268</td>\n",
       "      <td></td>\n",
       "      <td>data analysis, hr, project management</td>\n",
       "      <td>0</td>\n",
       "      <td>Certified Financial Planner | State    Marketi...</td>\n",
       "    </tr>\n",
       "  </tbody>\n",
       "</table>\n",
       "</div>"
      ],
      "text/plain": [
       "         ID Education                                             Skills  \\\n",
       "0  36856210                                  compliance, excel, hr, html   \n",
       "1  21780877                               hr, access, project management   \n",
       "2  33241454            hr, project management, sharepoint, access, excel   \n",
       "3  25990239            hr, project management, outlook, powerpoint, h...   \n",
       "4  16899268                        data analysis, hr, project management   \n",
       "\n",
       "   Experience (Years)                                     Certifications  \n",
       "0                  37                                                     \n",
       "1                   0                                                     \n",
       "2                   5  Education      Certification | Certificate of ...  \n",
       "3                   0                                                     \n",
       "4                   0  Certified Financial Planner | State    Marketi...  "
      ]
     },
     "execution_count": 28,
     "metadata": {},
     "output_type": "execute_result"
    }
   ],
   "source": [
    "# Load spaCy model\n",
    "nlp = spacy.load(\"en_core_web_sm\")\n",
    "\n",
    "# Define keywords for fallback extraction (the keywords are used to extract the education, skills and certification from the resume)\n",
    "education_keywords = ['bachelor', 'master', 'phd', 'b.sc', 'm.sc', 'mba', 'btech', 'mtech', 'degree']\n",
    "certification_keywords = ['certified', 'certification', 'certificate', 'cfa', 'pmp', 'aws', 'scrum']\n",
    "skill_keywords = [\n",
    "    'python', 'sql', 'excel', 'machine learning', 'deep learning','project management', 'data analysis', \n",
    "    'c++', 'java', 'javascript','html', 'css', 'docker', 'kubernetes', 'cloud computing', \n",
    "    'lawson', 'paychex', 'kronox', 'adp', 'ms office', 'microsoft office', 'hr', 'human resources', \n",
    "    'recruitment', 'talent acquisition', 'employee relations', 'performance management', 'word', 'access',\n",
    "    'publisher', 'outlook', 'powerpoint', 'sharepoint', 'quickbooks', 'payroll', 'benefits',\n",
    "    'compliance', 'employee engagement', 'training and development', 'organizational development'   \n",
    "]\n",
    "\n",
    "def extract_features(text):\n",
    "    doc = nlp(text)\n",
    "\n",
    "    # Containers\n",
    "    education = set()\n",
    "    certifications = set()\n",
    "    skills = set()\n",
    "    experience_years = 0\n",
    "\n",
    "    # Named Entity Recognition\n",
    "    for ent in doc.ents:\n",
    "        ent_text = ent.text.lower()\n",
    "\n",
    "        # Check for education-related content\n",
    "        if ent.label_ in ['ORG', 'EDUCATION', 'WORK_OF_ART']: \n",
    "            if any(kw in ent_text for kw in education_keywords):\n",
    "                education.add(ent.text)\n",
    "\n",
    "        # Check for certifications\n",
    "        if any(cert in ent_text for cert in certification_keywords):\n",
    "            certifications.add(ent.text)\n",
    "\n",
    "        # Check for experience in years\n",
    "        match = re.search(r'(\\d{1,2})\\+?\\s?(years?|yrs?)', ent_text)\n",
    "        if match:\n",
    "            experience_years = max(experience_years, int(match.group(1)))\n",
    "\n",
    "    # Check for skills based on keywords\n",
    "    lower_text = text.lower()\n",
    "    for skill in skill_keywords:\n",
    "        if skill in lower_text:\n",
    "            skills.add(skill)\n",
    "\n",
    "    return pd.Series({\n",
    "        'Education': ' | '.join(education),\n",
    "        'Certifications': ' | '.join(certifications),\n",
    "        'Experience (Years)': experience_years,\n",
    "        'Skills': ', '.join(skills)\n",
    "    })\n",
    "\n",
    "# Apply to your dataframe\n",
    "features_df = filtered_resume['Resume_str'].apply(extract_features)\n",
    "final_df = pd.concat([filtered_resume, features_df], axis=1)\n",
    "\n",
    "# Preview\n",
    "final_df[['ID', 'Education', 'Skills', 'Experience (Years)', 'Certifications']].head()"
   ]
  },
  {
   "cell_type": "markdown",
   "id": "523f0725",
   "metadata": {},
   "source": [
    "## Modelling with S-BERT"
   ]
  },
  {
   "cell_type": "code",
   "execution_count": 30,
   "id": "9d494e92",
   "metadata": {},
   "outputs": [
    {
     "name": "stderr",
     "output_type": "stream",
     "text": [
      "Batches: 100%|██████████| 4/4 [00:15<00:00,  3.82s/it]\n",
      "Batches: 100%|██████████| 4/4 [00:08<00:00,  2.13s/it]\n",
      "Batches: 100%|██████████| 1/1 [00:02<00:00,  2.36s/it]\n",
      "Batches: 100%|██████████| 8/8 [00:32<00:00,  4.12s/it]\n"
     ]
    }
   ],
   "source": [
    "# Load the pretrained BERT model\n",
    "model = SentenceTransformer('all-MiniLM-L6-v2')\n",
    "\n",
    "# Embed and normalize the datasets\n",
    "def embed_and_normalize(texts):\n",
    "    embeddings = model.encode(texts, batch_size=32, show_progress_bar=True)\n",
    "    embeddings = embeddings / np.linalg.norm(embeddings, axis=1, keepdims=True)\n",
    "    return embeddings\n",
    "\n",
    "# Embed and normalize the resumes\n",
    "hr_resume_embedds = embed_and_normalize(HR_resume['Resume_str'].tolist())\n",
    "it_resume_embedds = embed_and_normalize(IT_resume['Resume_str'].tolist())\n",
    "\n",
    "# Embed and normalize the job descriptions\n",
    "hr_job_embedds = embed_and_normalize(HR_jobs['job_txt'].tolist())\n",
    "it_job_embedds = embed_and_normalize(IT_jobs['job_txt'].tolist())"
   ]
  }
 ],
 "metadata": {
  "kernelspec": {
   "display_name": "tf_env",
   "language": "python",
   "name": "python3"
  },
  "language_info": {
   "codemirror_mode": {
    "name": "ipython",
    "version": 3
   },
   "file_extension": ".py",
   "mimetype": "text/x-python",
   "name": "python",
   "nbconvert_exporter": "python",
   "pygments_lexer": "ipython3",
   "version": "3.10.16"
  }
 },
 "nbformat": 4,
 "nbformat_minor": 5
}
